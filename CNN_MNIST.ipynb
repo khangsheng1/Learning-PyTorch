{
  "nbformat": 4,
  "nbformat_minor": 0,
  "metadata": {
    "colab": {
      "provenance": [],
      "gpuType": "T4",
      "authorship_tag": "ABX9TyNTMMysYFm4nwaiaUUcFdQi",
      "include_colab_link": true
    },
    "kernelspec": {
      "name": "python3",
      "display_name": "Python 3"
    },
    "language_info": {
      "name": "python"
    },
    "accelerator": "GPU"
  },
  "cells": [
    {
      "cell_type": "markdown",
      "metadata": {
        "id": "view-in-github",
        "colab_type": "text"
      },
      "source": [
        "<a href=\"https://colab.research.google.com/github/khangsheng1/PyTorch-Tutorial/blob/main/CNN_MNIST.ipynb\" target=\"_parent\"><img src=\"https://colab.research.google.com/assets/colab-badge.svg\" alt=\"Open In Colab\"/></a>"
      ]
    },
    {
      "cell_type": "code",
      "execution_count": 61,
      "metadata": {
        "id": "TJ4n4tL_nQLR"
      },
      "outputs": [],
      "source": [
        "# https://www.tensorflow.org/datasets/catalog/mnist\n",
        "\n",
        "import torch\n",
        "import torch.nn as nn\n",
        "import torch.nn.functional as F\n",
        "from torch.utils.data import DataLoader\n",
        "from torchvision import datasets, transforms\n",
        "from torchvision.utils import make_grid\n",
        "\n",
        "import numpy as np\n",
        "import pandas as pd\n",
        "from sklearn.metrics import confusion_matrix\n",
        "import matplotlib.pyplot as plt\n",
        "%matplotlib inline"
      ]
    },
    {
      "cell_type": "code",
      "source": [
        "# Convert MNIST to 4-D tensor (# images, height, width, color channel)\n",
        "transform = transforms.ToTensor()"
      ],
      "metadata": {
        "id": "Zj0T96htrjRR"
      },
      "execution_count": 62,
      "outputs": []
    },
    {
      "cell_type": "code",
      "source": [
        "# Train Data\n",
        "train_data = datasets.MNIST(root='/cnn_data', train=True, download=True, transform=transform)"
      ],
      "metadata": {
        "id": "8okCe6klssLg"
      },
      "execution_count": 63,
      "outputs": []
    },
    {
      "cell_type": "code",
      "source": [
        "# TEst Data\n",
        "test_data = datasets.MNIST(root='/cnn_data', train=False, download=True, transform=transform)"
      ],
      "metadata": {
        "id": "gCv-s7EUtJMN"
      },
      "execution_count": 64,
      "outputs": []
    },
    {
      "cell_type": "code",
      "source": [
        "train_data"
      ],
      "metadata": {
        "colab": {
          "base_uri": "https://localhost:8080/"
        },
        "id": "fZqBF7rbtUDA",
        "outputId": "f03e8e8e-22f5-4b54-d9c2-a255a61410a9"
      },
      "execution_count": 65,
      "outputs": [
        {
          "output_type": "execute_result",
          "data": {
            "text/plain": [
              "Dataset MNIST\n",
              "    Number of datapoints: 60000\n",
              "    Root location: /cnn_data\n",
              "    Split: Train\n",
              "    StandardTransform\n",
              "Transform: ToTensor()"
            ]
          },
          "metadata": {},
          "execution_count": 65
        }
      ]
    },
    {
      "cell_type": "code",
      "source": [
        "test_data"
      ],
      "metadata": {
        "colab": {
          "base_uri": "https://localhost:8080/"
        },
        "id": "CunSrA3CtVZ_",
        "outputId": "5b026fc3-f4de-4433-e9cd-244f64ee31ae"
      },
      "execution_count": 66,
      "outputs": [
        {
          "output_type": "execute_result",
          "data": {
            "text/plain": [
              "Dataset MNIST\n",
              "    Number of datapoints: 10000\n",
              "    Root location: /cnn_data\n",
              "    Split: Test\n",
              "    StandardTransform\n",
              "Transform: ToTensor()"
            ]
          },
          "metadata": {},
          "execution_count": 66
        }
      ]
    },
    {
      "cell_type": "code",
      "source": [
        "# Create a small batch size for images ... let's say 10\n",
        "train_loader = DataLoader(train_data, batch_size=10, shuffle=True)\n",
        "test_loader = DataLoader(test_data, batch_size=10, shuffle=False)"
      ],
      "metadata": {
        "id": "QBK2f_tyt0Fm"
      },
      "execution_count": 67,
      "outputs": []
    },
    {
      "cell_type": "code",
      "source": [
        "# Define our CNN Model\n",
        "# Describe convolutional layer and what it's doing (2 convolutional layers)\n",
        "conv1 = nn.Conv2d(1, 6, 3, 1)\n",
        "# 6 outputs from conv1 to 6 inputs in conv2\n",
        "conv2 = nn.Conv2d(6, 16, 3, 1)"
      ],
      "metadata": {
        "id": "j-8JPWWNu2kH"
      },
      "execution_count": 68,
      "outputs": []
    },
    {
      "cell_type": "code",
      "source": [
        "# Grab 1 MNIST record/image\n",
        "for i, (X_train, y_train) in enumerate(train_data):\n",
        "  break"
      ],
      "metadata": {
        "id": "OGke2EiHvfBg"
      },
      "execution_count": 69,
      "outputs": []
    },
    {
      "cell_type": "code",
      "source": [
        "X_train.shape"
      ],
      "metadata": {
        "colab": {
          "base_uri": "https://localhost:8080/"
        },
        "id": "0FJQhFhivpEw",
        "outputId": "b402e481-b27c-4e13-e7f5-a06354c5d5d2"
      },
      "execution_count": 70,
      "outputs": [
        {
          "output_type": "execute_result",
          "data": {
            "text/plain": [
              "torch.Size([1, 28, 28])"
            ]
          },
          "metadata": {},
          "execution_count": 70
        }
      ]
    },
    {
      "cell_type": "code",
      "source": [
        "x = X_train.view(1,1,28,28)"
      ],
      "metadata": {
        "id": "yPPG_OXBvqIA"
      },
      "execution_count": 71,
      "outputs": []
    },
    {
      "cell_type": "code",
      "source": [
        "# Perform 1st convolution\n",
        "x = F.relu(conv1(x)) # rectified linear unit for our activation function"
      ],
      "metadata": {
        "id": "9I3G2jabv103"
      },
      "execution_count": 72,
      "outputs": []
    },
    {
      "cell_type": "code",
      "source": [
        "# [1 image, 6 is the filters we asked for, 26x26 is the image size]\n",
        "# not 28 anymore because we didn't keep padding, in real world cases we will\n",
        "# probably keep this padding\n",
        "x.shape"
      ],
      "metadata": {
        "colab": {
          "base_uri": "https://localhost:8080/"
        },
        "id": "qHruPJVDv2a_",
        "outputId": "67beec83-b521-42ee-9669-e324a9487c72"
      },
      "execution_count": 73,
      "outputs": [
        {
          "output_type": "execute_result",
          "data": {
            "text/plain": [
              "torch.Size([1, 6, 26, 26])"
            ]
          },
          "metadata": {},
          "execution_count": 73
        }
      ]
    },
    {
      "cell_type": "code",
      "source": [
        "# Pass thru the pooling layer\n",
        "x = F.max_pool2d(x,2,2) # kernal of 2 and stride of 2"
      ],
      "metadata": {
        "id": "p16kXCWcwGiH"
      },
      "execution_count": 74,
      "outputs": []
    },
    {
      "cell_type": "code",
      "source": [
        "# [1 image, 6 filters, 13x13: 26/2=13 from pooling]\n",
        "x.shape"
      ],
      "metadata": {
        "colab": {
          "base_uri": "https://localhost:8080/"
        },
        "id": "ELd3mxluw6Gv",
        "outputId": "238f8163-e427-42d0-d0d1-2e3bcf22f877"
      },
      "execution_count": 75,
      "outputs": [
        {
          "output_type": "execute_result",
          "data": {
            "text/plain": [
              "torch.Size([1, 6, 13, 13])"
            ]
          },
          "metadata": {},
          "execution_count": 75
        }
      ]
    },
    {
      "cell_type": "code",
      "source": [
        "# Second convolutional layer\n",
        "x = F.relu(conv2(x))"
      ],
      "metadata": {
        "id": "EH8mdOCqw8zm"
      },
      "execution_count": 76,
      "outputs": []
    },
    {
      "cell_type": "code",
      "source": [
        "# [1 image, 16 filters defined for conv2, 11x11]\n",
        "# We didn't set padding so we lose 2 pixels\n",
        "x.shape"
      ],
      "metadata": {
        "colab": {
          "base_uri": "https://localhost:8080/"
        },
        "id": "yGxMyugjxMOB",
        "outputId": "f750a354-1647-4c45-9991-b2bb78fd6469"
      },
      "execution_count": 77,
      "outputs": [
        {
          "output_type": "execute_result",
          "data": {
            "text/plain": [
              "torch.Size([1, 16, 11, 11])"
            ]
          },
          "metadata": {},
          "execution_count": 77
        }
      ]
    },
    {
      "cell_type": "code",
      "source": [
        "# Pooling Layer 2\n",
        "x = F.max_pool2d(x, 2,2)"
      ],
      "metadata": {
        "id": "-5W7MadexQ5H"
      },
      "execution_count": 78,
      "outputs": []
    },
    {
      "cell_type": "code",
      "source": [
        "# 11/2 = 5.5 but we have 5, round down because you can't invent data\n",
        "# to round up\n",
        "x.shape"
      ],
      "metadata": {
        "colab": {
          "base_uri": "https://localhost:8080/"
        },
        "id": "EYVp1oq9xvrY",
        "outputId": "15c4f85b-8d66-4112-a358-cb8afabe7a55"
      },
      "execution_count": 79,
      "outputs": [
        {
          "output_type": "execute_result",
          "data": {
            "text/plain": [
              "torch.Size([1, 16, 5, 5])"
            ]
          },
          "metadata": {},
          "execution_count": 79
        }
      ]
    },
    {
      "cell_type": "code",
      "source": [
        "# Model Class\n",
        "\n",
        "class ConvolutionalNetwork(nn.Module):\n",
        "  def __init__(self):\n",
        "    super().__init__()\n",
        "    self.conv1 = nn.Conv2d(1,6,3,1)\n",
        "    self.conv2 = nn.Conv2d(6,16,3,1)\n",
        "    # Fully connected layer\n",
        "    self.fc1 = nn.Linear(5*5*16, 120) # 5x5x16 as input from pool layer 2\n",
        "    self.fc2 = nn.Linear(120, 84)\n",
        "    self.fc3 = nn.Linear(84, 10) # 10 is the number of classes we have\n",
        "\n",
        "  def forward(self, X):\n",
        "    X = F.relu(self.conv1(X))\n",
        "    X = F.max_pool2d(X,2,2) # 2x2 kernal and stride 2\n",
        "    # Second pass\n",
        "    X = F.relu(self.conv2(X))\n",
        "    X = F.max_pool2d(X,2,2) # 2x2 kernal and stride 2\n",
        "\n",
        "    # Re-View to flatten out data\n",
        "    X = X.view(-1,16*5*5) # negative one so that we can vary the batch size\n",
        "\n",
        "    # Fully Connected Layers\n",
        "    X = F.relu(self.fc1(X))\n",
        "    X = F.relu(self.fc2(X))\n",
        "    X = self.fc3(X)\n",
        "    return F.log_softmax(X, dim = 1)"
      ],
      "metadata": {
        "id": "jQGvnzEFxwcY"
      },
      "execution_count": 80,
      "outputs": []
    },
    {
      "cell_type": "code",
      "source": [
        "# Create an instance of our Model\n",
        "torch.manual_seed(41) # set random seed\n",
        "model = ConvolutionalNetwork()\n",
        "model"
      ],
      "metadata": {
        "colab": {
          "base_uri": "https://localhost:8080/"
        },
        "id": "Y5yKkzSdyZ9_",
        "outputId": "5fd42870-860a-439d-e662-7f84621c8dee"
      },
      "execution_count": 81,
      "outputs": [
        {
          "output_type": "execute_result",
          "data": {
            "text/plain": [
              "ConvolutionalNetwork(\n",
              "  (conv1): Conv2d(1, 6, kernel_size=(3, 3), stride=(1, 1))\n",
              "  (conv2): Conv2d(6, 16, kernel_size=(3, 3), stride=(1, 1))\n",
              "  (fc1): Linear(in_features=400, out_features=120, bias=True)\n",
              "  (fc2): Linear(in_features=120, out_features=84, bias=True)\n",
              "  (fc3): Linear(in_features=84, out_features=10, bias=True)\n",
              ")"
            ]
          },
          "metadata": {},
          "execution_count": 81
        }
      ]
    },
    {
      "cell_type": "code",
      "source": [
        "# Loss Function Optimizer\n",
        "criterion = nn.CrossEntropyLoss()\n",
        "# The smaller the lr, the longer its gonna take to train\n",
        "optimizer = torch.optim.Adam(model.parameters(), lr=0.001)"
      ],
      "metadata": {
        "id": "Z-mWMnIk0r94"
      },
      "execution_count": 82,
      "outputs": []
    },
    {
      "cell_type": "code",
      "source": [
        "import time\n",
        "start_time = time.time()\n",
        "\n",
        "# Create variables to track progress\n",
        "epochs = 5\n",
        "train_losses = []\n",
        "test_losses = []\n",
        "train_correct = []\n",
        "test_correct = []\n",
        "\n",
        "# Create for loops of Epochs\n",
        "for i in range(epochs):\n",
        "  trn_correct = 0\n",
        "  tst_correct = 0\n",
        "\n",
        "  # Train\n",
        "  for b,(X_train, y_train) in enumerate(train_loader):\n",
        "    # start our batches at 1\n",
        "    b+=1\n",
        "    # get predictions from training set, not flattened\n",
        "    y_pred = model(X_train)\n",
        "    # calculate loss. compare predictions to correct answers in y_train\n",
        "    loss = criterion(y_pred, y_train)\n",
        "    # add up the nubmer of correct predictions\n",
        "    predicted = torch.max(y_pred.data, 1)[1]\n",
        "    # how many we got correct from this batch. (True = 1, False = 0) summed up\n",
        "    batch_correct = (predicted == y_train).sum()\n",
        "    # add up the number of correct predictions\n",
        "    trn_correct += batch_correct\n",
        "\n",
        "    # Update our parameters\n",
        "    optimizer.zero_grad()\n",
        "    loss.backward()\n",
        "    optimizer.step()\n",
        "\n",
        "    # Print out our results\n",
        "    if b%600 == 0:\n",
        "      print(f'Epoch: {i} Batch: {b} Loss: {loss}')\n",
        "\n",
        "  train_losses.append(loss)\n",
        "  train_correct.append(trn_correct)\n",
        "  # Test\n",
        "  # No gradient so we don't update our weights and biases with test data\n",
        "  with torch.no_grad():\n",
        "    for b, (X_test, y_test) in enumerate(test_loader):\n",
        "      y_val = model(X_test)\n",
        "      predicted = torch.max(y_val.data,1)[1]\n",
        "      tst_correct += (predicted == y_test).sum()\n",
        "  loss = criterion(y_val, y_test)\n",
        "  test_losses.append(loss)\n",
        "  test_correct.append(tst_correct)\n",
        "\n",
        "current_time = time.time()\n",
        "total = current_time - start_time\n",
        "print(f'Training Took: {total/60} minutes!')"
      ],
      "metadata": {
        "colab": {
          "base_uri": "https://localhost:8080/"
        },
        "id": "zOKx4wXv0_WV",
        "outputId": "2bc57616-9d50-4c83-fafa-f7b69119fd83"
      },
      "execution_count": 83,
      "outputs": [
        {
          "output_type": "stream",
          "name": "stdout",
          "text": [
            "Epoch: 0 Batch: 600 Loss: 0.1599934995174408\n",
            "Epoch: 0 Batch: 1200 Loss: 0.18979528546333313\n",
            "Epoch: 0 Batch: 1800 Loss: 0.5580862760543823\n",
            "Epoch: 0 Batch: 2400 Loss: 0.2070152312517166\n",
            "Epoch: 0 Batch: 3000 Loss: 0.006888664327561855\n",
            "Epoch: 0 Batch: 3600 Loss: 0.33112621307373047\n",
            "Epoch: 0 Batch: 4200 Loss: 0.004664934705942869\n",
            "Epoch: 0 Batch: 4800 Loss: 0.0020317500457167625\n",
            "Epoch: 0 Batch: 5400 Loss: 0.06558699160814285\n",
            "Epoch: 0 Batch: 6000 Loss: 0.000513441045768559\n",
            "Epoch: 1 Batch: 600 Loss: 0.004773168824613094\n",
            "Epoch: 1 Batch: 1200 Loss: 0.30684694647789\n",
            "Epoch: 1 Batch: 1800 Loss: 0.0025840331800282\n",
            "Epoch: 1 Batch: 2400 Loss: 0.004851708188652992\n",
            "Epoch: 1 Batch: 3000 Loss: 0.05095291882753372\n",
            "Epoch: 1 Batch: 3600 Loss: 0.29904529452323914\n",
            "Epoch: 1 Batch: 4200 Loss: 0.020275484770536423\n",
            "Epoch: 1 Batch: 4800 Loss: 0.0018002415308728814\n",
            "Epoch: 1 Batch: 5400 Loss: 0.0003511425748001784\n",
            "Epoch: 1 Batch: 6000 Loss: 0.16817066073417664\n",
            "Epoch: 2 Batch: 600 Loss: 0.044435493648052216\n",
            "Epoch: 2 Batch: 1200 Loss: 0.004347414709627628\n",
            "Epoch: 2 Batch: 1800 Loss: 0.0031939216423779726\n",
            "Epoch: 2 Batch: 2400 Loss: 0.001477271900512278\n",
            "Epoch: 2 Batch: 3000 Loss: 0.03410597890615463\n",
            "Epoch: 2 Batch: 3600 Loss: 0.0017348671099171042\n",
            "Epoch: 2 Batch: 4200 Loss: 0.026752764359116554\n",
            "Epoch: 2 Batch: 4800 Loss: 0.0011857940116897225\n",
            "Epoch: 2 Batch: 5400 Loss: 0.03397049382328987\n",
            "Epoch: 2 Batch: 6000 Loss: 0.08765818178653717\n",
            "Epoch: 3 Batch: 600 Loss: 0.0014157459372654557\n",
            "Epoch: 3 Batch: 1200 Loss: 0.04033372178673744\n",
            "Epoch: 3 Batch: 1800 Loss: 0.009649786166846752\n",
            "Epoch: 3 Batch: 2400 Loss: 9.890591900330037e-05\n",
            "Epoch: 3 Batch: 3000 Loss: 0.0006461621960625052\n",
            "Epoch: 3 Batch: 3600 Loss: 0.0020527213346213102\n",
            "Epoch: 3 Batch: 4200 Loss: 0.017012134194374084\n",
            "Epoch: 3 Batch: 4800 Loss: 0.0006663133972324431\n",
            "Epoch: 3 Batch: 5400 Loss: 0.2162645161151886\n",
            "Epoch: 3 Batch: 6000 Loss: 0.008805084973573685\n",
            "Epoch: 4 Batch: 600 Loss: 0.003906161990016699\n",
            "Epoch: 4 Batch: 1200 Loss: 0.02706657350063324\n",
            "Epoch: 4 Batch: 1800 Loss: 0.031226878985762596\n",
            "Epoch: 4 Batch: 2400 Loss: 0.003980172798037529\n",
            "Epoch: 4 Batch: 3000 Loss: 0.00034568319097161293\n",
            "Epoch: 4 Batch: 3600 Loss: 0.00021057421690784395\n",
            "Epoch: 4 Batch: 4200 Loss: 0.00018548659863881767\n",
            "Epoch: 4 Batch: 4800 Loss: 0.005335819907486439\n",
            "Epoch: 4 Batch: 5400 Loss: 0.16066013276576996\n",
            "Epoch: 4 Batch: 6000 Loss: 0.00018261259538121521\n",
            "Training Took: 3.05611918369929 minutes!\n"
          ]
        }
      ]
    },
    {
      "cell_type": "code",
      "source": [
        "train_losses = [tl.item() for tl in train_losses]"
      ],
      "metadata": {
        "id": "o5HqGCkV7cKf"
      },
      "execution_count": 84,
      "outputs": []
    },
    {
      "cell_type": "code",
      "source": [
        "# Graph the loss at epoch\n",
        "plt.plot(train_losses, label='Training Loss')\n",
        "plt.plot(test_losses, label='Validation Loss')\n",
        "plt.title('Loss at Epoch')\n",
        "plt.legend()"
      ],
      "metadata": {
        "colab": {
          "base_uri": "https://localhost:8080/",
          "height": 469
        },
        "id": "yWQ1j-Zg1ypy",
        "outputId": "1f184fa4-fba9-4f06-eb0e-62787672edc0"
      },
      "execution_count": 88,
      "outputs": [
        {
          "output_type": "execute_result",
          "data": {
            "text/plain": [
              "<matplotlib.legend.Legend at 0x788e1383e8f0>"
            ]
          },
          "metadata": {},
          "execution_count": 88
        },
        {
          "output_type": "display_data",
          "data": {
            "text/plain": [
              "<Figure size 640x480 with 1 Axes>"
            ],
            "image/png": "[encoded data removed]"
          },
          "metadata": {}
        }
      ]
    },
    {
      "cell_type": "code",
      "source": [
        "# Graph the accuracy at the end of each epoch\n",
        "plt.plot([t/600 for t in train_correct], label=\"Training Accuracy\")\n",
        "plt.plot([t/100 for t in test_correct], label=\"Validation Accuracy\")\n",
        "plt.title(\"Accuracy at End of Each Epoch\")\n",
        "plt.legend()"
      ],
      "metadata": {
        "colab": {
          "base_uri": "https://localhost:8080/",
          "height": 469
        },
        "id": "-Tt5dzDx87nJ",
        "outputId": "7da7ec9b-a519-4fb4-f9b5-2b2d9816182a"
      },
      "execution_count": 89,
      "outputs": [
        {
          "output_type": "execute_result",
          "data": {
            "text/plain": [
              "<matplotlib.legend.Legend at 0x788e1367d600>"
            ]
          },
          "metadata": {},
          "execution_count": 89
        },
        {
          "output_type": "display_data",
          "data": {
            "text/plain": [
              "<Figure size 640x480 with 1 Axes>"
            ],
            "image/png": "[encoded data removed]"
          },
          "metadata": {}
        }
      ]
    },
    {
      "cell_type": "code",
      "source": [
        "test_load_everything = DataLoader(test_data, batch_size=10000, shuffle=False)"
      ],
      "metadata": {
        "id": "IGCB7Bq69aWR"
      },
      "execution_count": 90,
      "outputs": []
    },
    {
      "cell_type": "code",
      "source": [
        "with torch.no_grad():\n",
        "  correct = 0\n",
        "  wrong = 0\n",
        "  wrong_indices = []\n",
        "  for X_test, y_test in test_load_everything:\n",
        "    y_val = model(X_test)\n",
        "    predicted = torch.max(y_val, 1)[1]\n",
        "    correct += (predicted == y_test).sum()\n",
        "    wrong += (predicted != y_test).sum()\n",
        "    wrong_indices = (predicted != y_test).nonzero()\n"
      ],
      "metadata": {
        "id": "bqRDLeB29n_Z"
      },
      "execution_count": 145,
      "outputs": []
    },
    {
      "cell_type": "code",
      "source": [
        "# Test for correct\n",
        "print(f'{correct.item()/len(test_data)*100}% correct!')\n",
        "print(f'{wrong.item()/len(test_data)*100}% wrong. :(')\n",
        "wrong_indicies_aslist = wrong_indices.tolist()\n",
        "wrong_indicies_aslist_formatted_string = ', '.join(map(str, wrong_indicies_aslist))\n",
        "print(f'\\nThese are the indicies of all wrong predictions: \\\n",
        "\\n{wrong_indicies_aslist_formatted_string}')\n"
      ],
      "metadata": {
        "colab": {
          "base_uri": "https://localhost:8080/"
        },
        "id": "uDpwu7QI953B",
        "outputId": "d404a04c-d360-43e7-de68-598e99e1c97c"
      },
      "execution_count": 169,
      "outputs": [
        {
          "output_type": "stream",
          "name": "stdout",
          "text": [
            "98.86% correct!\n",
            "1.1400000000000001% wrong. :(\n",
            "\n",
            "These are the indicies of all wrong predictions: \n",
            "[8], [247], [321], [340], [359], [449], [582], [659], [786], [900], [947], [965], [1014], [1033], [1112], [1178], [1226], [1242], [1260], [1319], [1337], [1393], [1459], [1522], [1549], [1709], [1721], [1737], [1843], [1878], [1901], [1955], [1987], [2035], [2040], [2043], [2070], [2098], [2135], [2195], [2369], [2406], [2414], [2462], [2488], [2515], [2607], [2654], [2720], [2760], [2770], [2896], [2921], [2953], [2959], [2970], [2995], [3225], [3251], [3288], [3289], [3422], [3451], [3503], [3520], [3558], [3559], [3626], [3727], [3869], [3941], [3985], [4027], [4176], [4238], [4248], [4265], [4571], [4639], [4699], [4712], [4740], [4761], [4807], [4814], [4860], [5600], [5937], [5981], [5982], [6555], [6597], [6598], [6625], [6651], [6706], [6847], [7574], [7619], [7797], [7927], [8160], [8527], [9009], [9015], [9634], [9642], [9664], [9679], [9729], [9770], [9792], [9839], [9888]\n"
          ]
        }
      ]
    },
    {
      "cell_type": "code",
      "source": [
        "# Grab an image of a number\n",
        "grab_num = test_data[1] # tensor with an image ... at end, it prints the label\n",
        "#grab_num"
      ],
      "metadata": {
        "id": "UbkqpGtL-Bta"
      },
      "execution_count": 160,
      "outputs": []
    },
    {
      "cell_type": "code",
      "source": [
        "# Grab just the data\n",
        "test_num = grab_num[0].reshape(28,28)\n",
        "#test_num"
      ],
      "metadata": {
        "id": "1NGBmPbY-vbJ"
      },
      "execution_count": 161,
      "outputs": []
    },
    {
      "cell_type": "code",
      "source": [
        "plt.imshow(test_num)"
      ],
      "metadata": {
        "colab": {
          "base_uri": "https://localhost:8080/",
          "height": 447
        },
        "id": "_lyYyKoA_BhZ",
        "outputId": "47cfa1be-91a6-4cec-edfd-ad1f3b5a922c"
      },
      "execution_count": 162,
      "outputs": [
        {
          "output_type": "execute_result",
          "data": {
            "text/plain": [
              "<matplotlib.image.AxesImage at 0x788e12ebea40>"
            ]
          },
          "metadata": {},
          "execution_count": 162
        },
        {
          "output_type": "display_data",
          "data": {
            "text/plain": [
              "<Figure size 640x480 with 1 Axes>"
            ],
            "image/png": "[encoded data removed]"
          },
          "metadata": {}
        }
      ]
    },
    {
      "cell_type": "code",
      "source": [
        "# Pass the image through out model\n",
        "model.eval()\n",
        "with torch.no_grad():\n",
        "  new_prediction = model(test_num.view(1,1,28,28))\n"
      ],
      "metadata": {
        "id": "nNOKjjlE_NOh"
      },
      "execution_count": 163,
      "outputs": []
    },
    {
      "cell_type": "code",
      "source": [
        "# Check the new prediction ... get probabilites\n",
        "print(new_prediction)\n",
        "print('\\nThese are probabilites of the test number being a 0-9.\\\n",
        " \\nThe largest probability is what the model predicts the input \\\n",
        " to be. \\nIt is hard to see here so we can use the argmax function \\\n",
        " to find the predicted label.')"
      ],
      "metadata": {
        "colab": {
          "base_uri": "https://localhost:8080/"
        },
        "id": "OnpuSLYw_pyq",
        "outputId": "36960d80-d451-481f-96fb-ddf9f29f0c08"
      },
      "execution_count": 164,
      "outputs": [
        {
          "output_type": "stream",
          "name": "stdout",
          "text": [
            "tensor([[-2.0654e+01, -1.3679e+01, -1.7881e-06, -2.0578e+01, -1.4675e+01,\n",
            "         -3.1072e+01, -1.5753e+01, -1.9805e+01, -2.3649e+01, -2.7476e+01]])\n",
            "\n",
            "These are probabilites of the test number being a 0-9. \n",
            "The largest probability is what the model predicts the input  to be. \n",
            "It is hard to see here so we can use the argmax function  to find the predicted label.\n"
          ]
        }
      ]
    },
    {
      "cell_type": "code",
      "source": [
        "print(f'The predicted number is {new_prediction.argmax()}. The \\\n",
        "actual number is {grab_num[1]}')"
      ],
      "metadata": {
        "colab": {
          "base_uri": "https://localhost:8080/"
        },
        "id": "6cedyLF1_8rJ",
        "outputId": "10598fe4-cc85-4b09-d036-5022aae33c7a"
      },
      "execution_count": 165,
      "outputs": [
        {
          "output_type": "stream",
          "name": "stdout",
          "text": [
            "The predicted number is 2. The actual number is 2\n"
          ]
        }
      ]
    },
    {
      "cell_type": "code",
      "source": [],
      "metadata": {
        "id": "gCcP77eEBCIq"
      },
      "execution_count": 152,
      "outputs": []
    }
  ]
}