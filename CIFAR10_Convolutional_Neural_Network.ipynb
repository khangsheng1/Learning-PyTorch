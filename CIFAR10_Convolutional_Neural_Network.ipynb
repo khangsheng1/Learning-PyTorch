{
  "nbformat": 4,
  "nbformat_minor": 0,
  "metadata": {
    "colab": {
      "provenance": [],
      "gpuType": "T4",
      "authorship_tag": "ABX9TyPA0sCpJRfnTtOOpc6An+EC",
      "include_colab_link": true
    },
    "kernelspec": {
      "name": "python3",
      "display_name": "Python 3"
    },
    "language_info": {
      "name": "python"
    },
    "accelerator": "GPU"
  },
  "cells": [
    {
      "cell_type": "markdown",
      "metadata": {
        "id": "view-in-github",
        "colab_type": "text"
      },
      "source": [
        "<a href=\"https://colab.research.google.com/github/khangsheng1/PyTorch-Tutorial/blob/main/CIFAR10_Convolutional_Neural_Network.ipynb\" target=\"_parent\"><img src=\"https://colab.research.google.com/assets/colab-badge.svg\" alt=\"Open In Colab\"/></a>"
      ]
    },
    {
      "cell_type": "code",
      "execution_count": 7,
      "metadata": {
        "id": "4RtoEOfUkRAG"
      },
      "outputs": [],
      "source": [
        "import torch\n",
        "import torchvision\n",
        "import torchvision.transforms as transforms"
      ]
    },
    {
      "cell_type": "code",
      "source": [
        "# Load and normalize CIFAR10\n",
        "transform = transforms.Compose(\n",
        "    [transforms.ToTensor(),\n",
        "     transforms.Normalize((0.5, 0.5, 0.5), (0.5, 0.5, 0.5))])\n",
        "\n",
        "batch_size = 4\n",
        "\n",
        "trainset = torchvision.datasets.CIFAR10(root='./data', train=True,\n",
        "                                        download=True, transform=transform)\n",
        "trainloader = torch.utils.data.DataLoader(trainset, batch_size=batch_size,\n",
        "                                          shuffle=True, num_workers=2)\n",
        "\n",
        "testset = torchvision.datasets.CIFAR10(root='./data', train=False,\n",
        "                                       download=True, transform=transform)\n",
        "testloader = torch.utils.data.DataLoader(testset, batch_size=batch_size,\n",
        "                                         shuffle=False, num_workers=2)\n",
        "\n",
        "classes = ('plane', 'car', 'bird', 'cat',\n",
        "           'deer', 'dog', 'frog', 'horse', 'ship', 'truck')"
      ],
      "metadata": {
        "colab": {
          "base_uri": "https://localhost:8080/"
        },
        "id": "Fotu434wqKJ9",
        "outputId": "75437676-236c-4805-e4cb-284236992b4a"
      },
      "execution_count": 8,
      "outputs": [
        {
          "output_type": "stream",
          "name": "stdout",
          "text": [
            "Files already downloaded and verified\n",
            "Files already downloaded and verified\n"
          ]
        }
      ]
    },
    {
      "cell_type": "code",
      "source": [
        "import pandas as pd\n",
        "import matplotlib.pyplot as plt\n",
        "import numpy as np\n",
        "%matplotlib inline\n",
        "\n",
        "# functions to show an image\n",
        "\n",
        "\n",
        "def imshow(img):\n",
        "    img = img / 2 + 0.5     # unnormalize\n",
        "    npimg = img.numpy()\n",
        "    plt.imshow(np.transpose(npimg, (1, 2, 0)))\n",
        "    plt.show()\n",
        "\n",
        "\n",
        "# get some random training images\n",
        "dataiter = iter(trainloader)\n",
        "images, labels = next(dataiter)\n",
        "\n",
        "# show images\n",
        "imshow(torchvision.utils.make_grid(images))\n",
        "# print labels\n",
        "print(' '.join(f'{classes[labels[j]]:5s}' for j in range(batch_size)))"
      ],
      "metadata": {
        "colab": {
          "base_uri": "https://localhost:8080/",
          "height": 210
        },
        "id": "pNoVXpkmqOIj",
        "outputId": "751369b3-286c-43d3-e9de-54829182cff0"
      },
      "execution_count": 9,
      "outputs": [
        {
          "output_type": "display_data",
          "data": {
            "text/plain": [
              "<Figure size 640x480 with 1 Axes>"
            ],
            "image/png": "[encoded data removed]"
          },
          "metadata": {}
        },
        {
          "output_type": "stream",
          "name": "stdout",
          "text": [
            "car   truck plane bird \n"
          ]
        }
      ]
    },
    {
      "cell_type": "code",
      "source": [
        "# Define CNN\n",
        "import torch.nn as nn\n",
        "import torch.nn.functional as F\n",
        "\n",
        "\n",
        "class Net(nn.Module):\n",
        "    def __init__(self):\n",
        "        super().__init__()\n",
        "        self.conv1 = nn.Conv2d(3, 6, 5)\n",
        "        self.pool = nn.MaxPool2d(2, 2)\n",
        "        self.conv2 = nn.Conv2d(6, 16, 5)\n",
        "        self.fc1 = nn.Linear(16 * 5 * 5, 120)\n",
        "        self.fc2 = nn.Linear(120, 84)\n",
        "        self.fc3 = nn.Linear(84, 10)\n",
        "\n",
        "    def forward(self, x):\n",
        "        x = self.pool(F.relu(self.conv1(x)))\n",
        "        x = self.pool(F.relu(self.conv2(x)))\n",
        "        x = torch.flatten(x, 1) # flatten all dimensions except batch\n",
        "        x = F.relu(self.fc1(x))\n",
        "        x = F.relu(self.fc2(x))\n",
        "        x = self.fc3(x)\n",
        "        return x\n",
        "\n",
        "\n",
        "model = Net()"
      ],
      "metadata": {
        "id": "nJ65RnWsqSYg"
      },
      "execution_count": 10,
      "outputs": []
    },
    {
      "cell_type": "code",
      "source": [
        "# Define a Loss function and optimizer\n",
        "import torch.optim as optim\n",
        "\n",
        "criterion = nn.CrossEntropyLoss()\n",
        "optimizer = torch.optim.Adam(model.parameters(), lr=0.001)"
      ],
      "metadata": {
        "id": "eSu6UewPqjZg"
      },
      "execution_count": 11,
      "outputs": []
    },
    {
      "cell_type": "code",
      "source": [
        "import time\n",
        "start_time = time.time()\n",
        "\n",
        "# Train CNN\n",
        "size = len(trainloader)\n",
        "\n",
        "for epoch in range(5):  # loop over the dataset multiple times\n",
        "  print(f\"Epoch {epoch+1}\\n-------------------------------\")\n",
        "\n",
        "  running_loss = 0.0\n",
        "  for i, data in enumerate(trainloader, 0):\n",
        "    # get the inputs; data is a list of [inputs, labels]\n",
        "    inputs, labels = data\n",
        "\n",
        "    # zero the parameter gradients\n",
        "    optimizer.zero_grad()\n",
        "\n",
        "    # forward + backward + optimize\n",
        "    outputs = model(inputs)\n",
        "    loss = criterion(outputs, labels)\n",
        "    loss.backward()\n",
        "    optimizer.step()\n",
        "    optimizer.zero_grad()\n",
        "\n",
        "    # print statistics\n",
        "    running_loss += loss.item()\n",
        "    if i % 1999 == 0:    # print every 2000 mini-batches\n",
        "      loss, current = loss.item(), (i + 1) * len(trainloader)\n",
        "      print(f'[{i + 1:5d}] loss: {running_loss / 2000:.3f}')\n",
        "      running_loss = 0.0\n",
        "      run_time = time.time() - start_time\n",
        "      print(f'Run Time: {run_time/60} minutes.')\n",
        "\n",
        "current_time = time.time()\n",
        "total = current_time - start_time\n",
        "print(f'Training Took: {total/60} minutes!')"
      ],
      "metadata": {
        "colab": {
          "base_uri": "https://localhost:8080/"
        },
        "id": "NrzzNAXNqmUe",
        "outputId": "8a765a0f-6fb4-4798-8497-23625c8d9999"
      },
      "execution_count": 12,
      "outputs": [
        {
          "output_type": "stream",
          "name": "stdout",
          "text": [
            "Epoch 1\n",
            "-------------------------------\n",
            "[    1] loss: 0.001\n",
            "Run Time: 0.0013546069463094075 minutes.\n",
            "[ 2000] loss: 1.873\n",
            "Run Time: 0.21710095008214314 minutes.\n",
            "[ 3999] loss: 1.596\n",
            "Run Time: 0.4342127760251363 minutes.\n",
            "[ 5998] loss: 1.482\n",
            "Run Time: 0.6450024326642354 minutes.\n",
            "[ 7997] loss: 1.440\n",
            "Run Time: 0.8642646710077921 minutes.\n",
            "[ 9996] loss: 1.413\n",
            "Run Time: 1.1245689034461974 minutes.\n",
            "[11995] loss: 1.384\n",
            "Run Time: 1.340718420346578 minutes.\n",
            "Epoch 2\n",
            "-------------------------------\n",
            "[    1] loss: 0.001\n",
            "Run Time: 1.3931920925776164 minutes.\n",
            "[ 2000] loss: 1.300\n",
            "Run Time: 1.6157257000605265 minutes.\n",
            "[ 3999] loss: 1.247\n",
            "Run Time: 1.8274567047754924 minutes.\n",
            "[ 5998] loss: 1.256\n",
            "Run Time: 2.042114559809367 minutes.\n",
            "[ 7997] loss: 1.244\n",
            "Run Time: 2.255718406041463 minutes.\n",
            "[ 9996] loss: 1.227\n",
            "Run Time: 2.467604732513428 minutes.\n",
            "[11995] loss: 1.233\n",
            "Run Time: 2.6768704056739807 minutes.\n",
            "Epoch 3\n",
            "-------------------------------\n",
            "[    1] loss: 0.001\n",
            "Run Time: 2.726900831858317 minutes.\n",
            "[ 2000] loss: 1.122\n",
            "Run Time: 2.937313171227773 minutes.\n",
            "[ 3999] loss: 1.142\n",
            "Run Time: 3.14801310300827 minutes.\n",
            "[ 5998] loss: 1.152\n",
            "Run Time: 3.358420185248057 minutes.\n",
            "[ 7997] loss: 1.125\n",
            "Run Time: 3.565933136145274 minutes.\n",
            "[ 9996] loss: 1.142\n",
            "Run Time: 3.7751294573148093 minutes.\n",
            "[11995] loss: 1.155\n",
            "Run Time: 3.987187131245931 minutes.\n",
            "Epoch 4\n",
            "-------------------------------\n",
            "[    1] loss: 0.000\n",
            "Run Time: 4.038937405745188 minutes.\n",
            "[ 2000] loss: 1.053\n",
            "Run Time: 4.255663907527923 minutes.\n",
            "[ 3999] loss: 1.065\n",
            "Run Time: 4.4718819459279375 minutes.\n",
            "[ 5998] loss: 1.089\n",
            "Run Time: 4.695262257258097 minutes.\n",
            "[ 7997] loss: 1.071\n",
            "Run Time: 4.920827853679657 minutes.\n",
            "[ 9996] loss: 1.075\n",
            "Run Time: 5.146581526597341 minutes.\n",
            "[11995] loss: 1.074\n",
            "Run Time: 5.373332063357036 minutes.\n",
            "Epoch 5\n",
            "-------------------------------\n",
            "[    1] loss: 0.000\n",
            "Run Time: 5.427210704485575 minutes.\n",
            "[ 2000] loss: 1.001\n",
            "Run Time: 5.648253293832143 minutes.\n",
            "[ 3999] loss: 1.010\n",
            "Run Time: 5.869795521100362 minutes.\n",
            "[ 5998] loss: 1.025\n",
            "Run Time: 6.094500708580017 minutes.\n",
            "[ 7997] loss: 1.024\n",
            "Run Time: 6.315476298332214 minutes.\n",
            "[ 9996] loss: 1.055\n",
            "Run Time: 6.534468408425649 minutes.\n",
            "[11995] loss: 1.022\n",
            "Run Time: 6.757411261399587 minutes.\n",
            "Training Took: 6.809163749217987 minutes!\n"
          ]
        }
      ]
    },
    {
      "cell_type": "code",
      "source": [
        "# Save our model\n",
        "PATH = './cifar_net.pth'\n",
        "torch.save(model.state_dict(), PATH)"
      ],
      "metadata": {
        "id": "zDjFfAOMqo_M"
      },
      "execution_count": 13,
      "outputs": []
    },
    {
      "cell_type": "code",
      "source": [
        "# Test model\n",
        "dataiter = iter(testloader)\n",
        "images, labels = next(dataiter)\n",
        "\n",
        "# print images\n",
        "imshow(torchvision.utils.make_grid(images))\n",
        "print('GroundTruth: ', ' '.join(f'{classes[labels[j]]:5s}' for j in range(4)))"
      ],
      "metadata": {
        "colab": {
          "base_uri": "https://localhost:8080/",
          "height": 210
        },
        "id": "sGe061NXrrP5",
        "outputId": "4dd553d8-d5d2-4844-fcc4-1ecd5c591ca6"
      },
      "execution_count": 14,
      "outputs": [
        {
          "output_type": "display_data",
          "data": {
            "text/plain": [
              "<Figure size 640x480 with 1 Axes>"
            ],
            "image/png": "[encoded data removed]"
          },
          "metadata": {}
        },
        {
          "output_type": "stream",
          "name": "stdout",
          "text": [
            "GroundTruth:  cat   ship  ship  plane\n"
          ]
        }
      ]
    },
    {
      "cell_type": "code",
      "source": [
        "# Load in saved model\n",
        "model = Net()\n",
        "model.load_state_dict(torch.load(PATH, weights_only=True))"
      ],
      "metadata": {
        "colab": {
          "base_uri": "https://localhost:8080/"
        },
        "id": "8pDGopqisevZ",
        "outputId": "b5e3b8f6-725e-4800-a6da-40a4c7431e07"
      },
      "execution_count": 15,
      "outputs": [
        {
          "output_type": "execute_result",
          "data": {
            "text/plain": [
              "<All keys matched successfully>"
            ]
          },
          "metadata": {},
          "execution_count": 15
        }
      ]
    },
    {
      "cell_type": "code",
      "source": [
        "# Test above images\n",
        "outputs = model(images)\n",
        "_, predicted = torch.max(outputs, 1)\n",
        "\n",
        "print('Predicted: ', ' '.join(f'{classes[predicted[j]]:5s}'\n",
        "                              for j in range(4)))"
      ],
      "metadata": {
        "colab": {
          "base_uri": "https://localhost:8080/"
        },
        "id": "YQzSQkNoshcn",
        "outputId": "746c74ad-16ec-40c4-a748-61233aba2ebc"
      },
      "execution_count": 16,
      "outputs": [
        {
          "output_type": "stream",
          "name": "stdout",
          "text": [
            "Predicted:  ship  ship  ship  ship \n"
          ]
        }
      ]
    },
    {
      "cell_type": "code",
      "source": [
        "# Test the rest of test set\n",
        "correct = 0\n",
        "total = 0\n",
        "# since we're not training, we don't need to calculate the gradients for our outputs\n",
        "with torch.no_grad():\n",
        "    for data in testloader:\n",
        "        images, labels = data\n",
        "        # calculate outputs by running images through the network\n",
        "        outputs = model(images)\n",
        "        # the class with the highest energy is what we choose as prediction\n",
        "        _, predicted = torch.max(outputs.data, 1)\n",
        "        total += labels.size(0)\n",
        "        correct += (predicted == labels).sum().item()\n",
        "\n",
        "print(f'Accuracy of the network on the 10000 test images: {100 * correct // total} %')"
      ],
      "metadata": {
        "colab": {
          "base_uri": "https://localhost:8080/"
        },
        "id": "ZWF54bLost9H",
        "outputId": "92e4caf6-b0ef-40cf-b67d-f31a321f3d18"
      },
      "execution_count": 17,
      "outputs": [
        {
          "output_type": "stream",
          "name": "stdout",
          "text": [
            "Accuracy of the network on the 10000 test images: 60 %\n"
          ]
        }
      ]
    },
    {
      "cell_type": "code",
      "source": [
        "# See what data performed well\n",
        "# prepare to count predictions for each class\n",
        "correct_pred = {classname: 0 for classname in classes}\n",
        "total_pred = {classname: 0 for classname in classes}\n",
        "\n",
        "# again no gradients needed\n",
        "with torch.no_grad():\n",
        "    for data in testloader:\n",
        "        images, labels = data\n",
        "        outputs = model(images)\n",
        "        _, predictions = torch.max(outputs, 1)\n",
        "        # collect the correct predictions for each class\n",
        "        for label, prediction in zip(labels, predictions):\n",
        "            if label == prediction:\n",
        "                correct_pred[classes[label]] += 1\n",
        "            total_pred[classes[label]] += 1\n",
        "\n",
        "\n",
        "# print accuracy for each class\n",
        "for classname, correct_count in correct_pred.items():\n",
        "    accuracy = 100 * float(correct_count) / total_pred[classname]\n",
        "    print(f'Accuracy for class: {classname:5s} is {accuracy:.1f} %')"
      ],
      "metadata": {
        "colab": {
          "base_uri": "https://localhost:8080/"
        },
        "id": "EfkW513ts-fW",
        "outputId": "aff781b9-a79e-42f0-d871-c04fd52d6ca2"
      },
      "execution_count": 18,
      "outputs": [
        {
          "output_type": "stream",
          "name": "stdout",
          "text": [
            "Accuracy for class: plane is 54.3 %\n",
            "Accuracy for class: car   is 77.2 %\n",
            "Accuracy for class: bird  is 49.1 %\n",
            "Accuracy for class: cat   is 46.6 %\n",
            "Accuracy for class: deer  is 58.0 %\n",
            "Accuracy for class: dog   is 40.4 %\n",
            "Accuracy for class: frog  is 66.5 %\n",
            "Accuracy for class: horse is 68.1 %\n",
            "Accuracy for class: ship  is 82.8 %\n",
            "Accuracy for class: truck is 63.7 %\n"
          ]
        }
      ]
    }
  ]
}