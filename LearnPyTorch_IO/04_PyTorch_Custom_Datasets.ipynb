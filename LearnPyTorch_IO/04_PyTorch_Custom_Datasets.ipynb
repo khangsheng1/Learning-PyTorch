{
  "nbformat": 4,
  "nbformat_minor": 0,
  "metadata": {
    "colab": {
      "provenance": [],
      "authorship_tag": "ABX9TyPCRRkfmG8rHIJJd7XMR4UD",
      "include_colab_link": true
    },
    "kernelspec": {
      "name": "python3",
      "display_name": "Python 3"
    },
    "language_info": {
      "name": "python"
    }
  },
  "cells": [
    {
      "cell_type": "markdown",
      "metadata": {
        "id": "view-in-github",
        "colab_type": "text"
      },
      "source": [
        "<a href=\"https://colab.research.google.com/github/khangsheng1/Learning-PyTorch/blob/main/LearnPyTorch_IO/04_PyTorch_Custom_Datasets.ipynb\" target=\"_parent\"><img src=\"https://colab.research.google.com/assets/colab-badge.svg\" alt=\"Open In Colab\"/></a>"
      ]
    },
    {
      "cell_type": "markdown",
      "source": [
        "URL: https://www.learnpytorch.io/04_pytorch_custom_datasets/"
      ],
      "metadata": {
        "id": "ED9pbQ6N-Xi1"
      }
    },
    {
      "cell_type": "markdown",
      "source": [
        "[PyTorch Domain Libraries](https://raw.githubusercontent.com/mrdbourke/pytorch-deep-learning/main/images/04-pytorch-domain-libraries.png)"
      ],
      "metadata": {
        "id": "b-UQfx7G-pwq"
      }
    },
    {
      "cell_type": "code",
      "execution_count": null,
      "metadata": {
        "id": "tRyW3UyoSbL3"
      },
      "outputs": [],
      "source": []
    }
  ]
}