{
  "nbformat": 4,
  "nbformat_minor": 0,
  "metadata": {
    "colab": {
      "provenance": [],
      "authorship_tag": "ABX9TyOaTmEbBz12yD/R3zmctwbJ",
      "include_colab_link": true
    },
    "kernelspec": {
      "name": "python3",
      "display_name": "Python 3"
    },
    "language_info": {
      "name": "python"
    }
  },
  "cells": [
    {
      "cell_type": "markdown",
      "metadata": {
        "id": "view-in-github",
        "colab_type": "text"
      },
      "source": [
        "<a href=\"https://colab.research.google.com/github/khangsheng1/Learning-PyTorch/blob/main/LearnPyTorch_IO/02_PyTorch_Neural_Network_Classification.ipynb\" target=\"_parent\"><img src=\"https://colab.research.google.com/assets/colab-badge.svg\" alt=\"Open In Colab\"/></a>"
      ]
    },
    {
      "cell_type": "markdown",
      "source": [
        "# 02. PyTorch Neural Network Classification¶\n",
        "\n",
        "URL: https://www.learnpytorch.io/02_pytorch_classification/"
      ],
      "metadata": {
        "id": "T7lGlAACMyB8"
      }
    },
    {
      "cell_type": "markdown",
      "source": [
        "## What is a classificaiton problem\n",
        "\n",
        "[Different Classification Problems](https://raw.githubusercontent.com/mrdbourke/pytorch-deep-learning/main/images/02-different-classification-problems.png)"
      ],
      "metadata": {
        "id": "NcNNYwUjM5nV"
      }
    },
    {
      "cell_type": "markdown",
      "source": [
        "## What we're going to cover\n",
        "\n",
        "[A PyTorch Workflow Diagram](https://raw.githubusercontent.com/mrdbourke/pytorch-deep-learning/main/images/01_a_pytorch_workflow.png)\n",
        "\n",
        "|Topic|Contents|\n",
        "|-|-|\n",
        "|0. Architecture of a classification neural network|Neural networks can come in almost any shape or size, but they typically follow a similar floor plan.|\n",
        "|1. Getting binary classification data ready| Data can be almost anything but to get started we're going to create a simple binary classification dataset.|\n",
        "|2. Building a PyTorch classification model| Here we'll create a model to learn patterns in the data, we'll also choose a loss function, optimizer, and build a training loop specific to classification.|\n",
        "|3. Fitting the model to data (training)| We've got data and a model, now let's let the model (try to) find patterns in the (training) data.|\n",
        "|4. Making predictions and evaluating a model (inference)| Our model's found patterns in the data, let's compare its findings to the actual (testing) data.|\n",
        "|5. Improving a model (from a model perspective)| We've trained and evaluated a model but it's not working, let's try a few things to improve it.|\n",
        "|6. Non-linearity| So far our model has only had the ability to model straight lines, what about non-linear (non-straight) lines?|\n",
        "|7. Replicating non-linear functions| We used non-linear functions to help model non-linear data, but what do these look like?|\n",
        "|8. Putting it all together with multi-class classification| Let's put everything we've done so far for binary classification together with a multi-class classification problem.|\n"
      ],
      "metadata": {
        "id": "4_f3HApTNc9i"
      }
    },
    {
      "cell_type": "markdown",
      "source": [
        "## 0. Architecture of a classification neural network\n",
        "\n",
        "|Hyperparameter|Binary Classificaiton|Multiclass Classification|\n",
        "|---------|---------|---------|\n",
        "|Input layer shape (in_features)|Same as number of features (e.g. 5 for age, sex, height, weight, smoking status in heart disease prediction)|Same as binary classification|\n",
        "|Hidden layer(s)|Problem specific, minimum = 1, maximum = unlimited|Same as binary classification|\n",
        "|Neurons per hidden layer|Problem specific, generally 10 to 512|Same as binary classification|\n",
        "|Output layer shape (out_features)|1 (one class or the other)|1 per class (e.g. 3 for food, person or dog photo)|\n",
        "|Hidden layer activation|Usually [ReLU](https://pytorch.org/docs/stable/generated/torch.nn.ReLU.html#torch.nn.ReLU) (rectified linear unit) but can be many [others](https://en.wikipedia.org/wiki/Activation_function#Table_of_activation_functions)|Same as binary classification|\n",
        "|Output activation|[Sigmoid](https://en.wikipedia.org/wiki/Sigmoid_function) ([torch.sigmoid](https://pytorch.org/docs/stable/generated/torch.sigmoid.html) in PyTorch)|[Softmax](https://en.wikipedia.org/wiki/Softmax_function) ([torch.softmax](https://pytorch.org/docs/stable/generated/torch.nn.Softmax.html) in PyTorch)|\n",
        "|Loss function|[Binary crossentropy](https://en.wikipedia.org/wiki/Cross-entropy#Cross-entropy_loss_function_and_logistic_regression) ([torch.nn.BCELoss](https://pytorch.org/docs/stable/generated/torch.nn.BCELoss.html) in PyTorch)|Cross entropy ([torch.nn.CrossEntropyLoss](https://pytorch.org/docs/stable/generated/torch.nn.CrossEntropyLoss.html) in PyTorch)|\n",
        "|Optimizer|[SGD](https://pytorch.org/docs/stable/generated/torch.optim.SGD.html) (stochastic gradient descent), [Adam](https://pytorch.org/docs/stable/generated/torch.optim.Adam.html) (see [torch.optim](https://pytorch.org/docs/stable/optim.html) for more options)|Same as binary classification|"
      ],
      "metadata": {
        "id": "RIh4hrACOJVX"
      }
    },
    {
      "cell_type": "code",
      "execution_count": null,
      "metadata": {
        "id": "fbOGOx5fMo1j"
      },
      "outputs": [],
      "source": []
    }
  ]
}