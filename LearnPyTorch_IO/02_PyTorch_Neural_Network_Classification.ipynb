{
  "nbformat": 4,
  "nbformat_minor": 0,
  "metadata": {
    "colab": {
      "provenance": [],
      "authorship_tag": "ABX9TyPZaRGX67Ysovr1GJGPCWKT",
      "include_colab_link": true
    },
    "kernelspec": {
      "name": "python3",
      "display_name": "Python 3"
    },
    "language_info": {
      "name": "python"
    }
  },
  "cells": [
    {
      "cell_type": "markdown",
      "metadata": {
        "id": "view-in-github",
        "colab_type": "text"
      },
      "source": [
        "<a href=\"https://colab.research.google.com/github/khangsheng1/Learning-PyTorch/blob/main/LearnPyTorch_IO/02_PyTorch_Neural_Network_Classification.ipynb\" target=\"_parent\"><img src=\"https://colab.research.google.com/assets/colab-badge.svg\" alt=\"Open In Colab\"/></a>"
      ]
    },
    {
      "cell_type": "markdown",
      "source": [
        "# 02. PyTorch Neural Network Classification¶\n",
        "\n",
        "URL: https://www.learnpytorch.io/02_pytorch_classification/"
      ],
      "metadata": {
        "id": "T7lGlAACMyB8"
      }
    },
    {
      "cell_type": "markdown",
      "source": [
        "## What is a classificaiton problem\n",
        "\n",
        "[Different Classification Problems](https://raw.githubusercontent.com/mrdbourke/pytorch-deep-learning/main/images/02-different-classification-problems.png)"
      ],
      "metadata": {
        "id": "NcNNYwUjM5nV"
      }
    },
    {
      "cell_type": "code",
      "execution_count": null,
      "metadata": {
        "id": "fbOGOx5fMo1j"
      },
      "outputs": [],
      "source": []
    }
  ]
}