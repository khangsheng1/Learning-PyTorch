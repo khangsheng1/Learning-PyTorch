{
  "cells": [
    {
      "cell_type": "markdown",
      "metadata": {
        "id": "view-in-github",
        "colab_type": "text"
      },
      "source": [
        "<a href=\"https://colab.research.google.com/github/khangsheng1/Learning-PyTorch/blob/main/CC_Fraud_Kaggle/CC_Fraud_Kaggle.ipynb\" target=\"_parent\"><img src=\"https://colab.research.google.com/assets/colab-badge.svg\" alt=\"Open In Colab\"/></a>"
      ]
    },
    {
      "cell_type": "code",
      "source": [
        "# Kaggle dataset URL: https://www.kaggle.com/datasets/mlg-ulb/creditcardfraud"
      ],
      "metadata": {
        "id": "6fkL6CmucH_R"
      },
      "execution_count": null,
      "outputs": []
    },
    {
      "cell_type": "code",
      "source": [
        "# from google.colab import files\n",
        "# files.upload()"
      ],
      "metadata": {
        "id": "MjbEmK32t7_s"
      },
      "execution_count": null,
      "outputs": []
    },
    {
      "cell_type": "code",
      "source": [
        "!mkdir -p ~/.kaggle\n",
        "!mv kaggle.json ~/.kaggle/\n",
        "!chmod 600 ~/.kaggle/kaggle.json"
      ],
      "metadata": {
        "id": "p4rHhnzFuAND",
        "colab": {
          "base_uri": "https://localhost:8080/"
        },
        "outputId": "7b5e50f0-4577-4dbe-c999-0db11f6f2f43"
      },
      "execution_count": null,
      "outputs": [
        {
          "output_type": "stream",
          "name": "stdout",
          "text": [
            "mv: cannot stat 'kaggle.json': No such file or directory\n"
          ]
        }
      ]
    },
    {
      "cell_type": "code",
      "execution_count": null,
      "metadata": {
        "id": "lRBtqEJNmI2G"
      },
      "outputs": [],
      "source": [
        "import os\n",
        "import torch\n",
        "import torch.nn as nn\n",
        "import zipfile\n",
        "import pandas as pd\n",
        "from sklearn.model_selection import train_test_split\n",
        "import random\n",
        "import numpy as np\n",
        "import matplotlib.pyplot as plt"
      ]
    },
    {
      "cell_type": "code",
      "execution_count": null,
      "metadata": {
        "colab": {
          "base_uri": "https://localhost:8080/"
        },
        "id": "pIzAoI8emI2H",
        "outputId": "eadce882-6556-46d3-f5fb-4b0ba901cf3a"
      },
      "outputs": [
        {
          "output_type": "stream",
          "name": "stdout",
          "text": [
            "Dataset URL: https://www.kaggle.com/datasets/mlg-ulb/creditcardfraud\n",
            "License(s): DbCL-1.0\n",
            "creditcardfraud.zip: Skipping, found more recently modified local copy (use --force to force download)\n"
          ]
        }
      ],
      "source": [
        "!kaggle datasets download -d mlg-ulb/creditcardfraud -p ./datasets/"
      ]
    },
    {
      "cell_type": "code",
      "execution_count": null,
      "metadata": {
        "colab": {
          "base_uri": "https://localhost:8080/"
        },
        "id": "ZrBGV8mOmI2H",
        "outputId": "65ffe1e3-1767-4141-f9ba-162e97874236"
      },
      "outputs": [
        {
          "output_type": "stream",
          "name": "stdout",
          "text": [
            "Files extracted to: ./datasets/extracted/\n"
          ]
        }
      ],
      "source": [
        "# Define the path to your zip file\n",
        "zip_file_path = './datasets/creditcardfraud.zip'\n",
        "extracted_path = './datasets/extracted/'\n",
        "\n",
        "# Check if the file exists\n",
        "if os.path.exists(zip_file_path):\n",
        "    # Open the zip file in read mode\n",
        "    with zipfile.ZipFile(zip_file_path, 'r') as zip_ref:\n",
        "        # Extract all the contents of the zip file to a directory\n",
        "        zip_ref.extractall(extracted_path)\n",
        "        print(f'Files extracted to: {extracted_path}')\n",
        "else:\n",
        "    print(\"Zip file does not exist.\")"
      ]
    },
    {
      "cell_type": "code",
      "execution_count": null,
      "metadata": {
        "colab": {
          "base_uri": "https://localhost:8080/"
        },
        "id": "eXzkl44EmI2H",
        "outputId": "7b9ee395-0c96-4893-dde4-5b6cae28d1b0"
      },
      "outputs": [
        {
          "output_type": "stream",
          "name": "stdout",
          "text": [
            "   Time        V1        V2        V3        V4        V5        V6        V7  \\\n",
            "0   0.0 -1.359807 -0.072781  2.536347  1.378155 -0.338321  0.462388  0.239599   \n",
            "1   0.0  1.191857  0.266151  0.166480  0.448154  0.060018 -0.082361 -0.078803   \n",
            "2   1.0 -1.358354 -1.340163  1.773209  0.379780 -0.503198  1.800499  0.791461   \n",
            "3   1.0 -0.966272 -0.185226  1.792993 -0.863291 -0.010309  1.247203  0.237609   \n",
            "4   2.0 -1.158233  0.877737  1.548718  0.403034 -0.407193  0.095921  0.592941   \n",
            "\n",
            "         V8        V9  ...       V21       V22       V23       V24       V25  \\\n",
            "0  0.098698  0.363787  ... -0.018307  0.277838 -0.110474  0.066928  0.128539   \n",
            "1  0.085102 -0.255425  ... -0.225775 -0.638672  0.101288 -0.339846  0.167170   \n",
            "2  0.247676 -1.514654  ...  0.247998  0.771679  0.909412 -0.689281 -0.327642   \n",
            "3  0.377436 -1.387024  ... -0.108300  0.005274 -0.190321 -1.175575  0.647376   \n",
            "4 -0.270533  0.817739  ... -0.009431  0.798278 -0.137458  0.141267 -0.206010   \n",
            "\n",
            "        V26       V27       V28  Amount  Class  \n",
            "0 -0.189115  0.133558 -0.021053  149.62      0  \n",
            "1  0.125895 -0.008983  0.014724    2.69      0  \n",
            "2 -0.139097 -0.055353 -0.059752  378.66      0  \n",
            "3 -0.221929  0.062723  0.061458  123.50      0  \n",
            "4  0.502292  0.219422  0.215153   69.99      0  \n",
            "\n",
            "[5 rows x 31 columns]\n"
          ]
        }
      ],
      "source": [
        "# Assuming there's a CSV file in the extracted folder\n",
        "csv_file_path = os.path.join(extracted_path, 'creditcard.csv')\n",
        "\n",
        "# Load the CSV into a pandas DataFrame\n",
        "if os.path.exists(csv_file_path):\n",
        "    df = pd.read_csv(csv_file_path)\n",
        "    print(df.head())  # Print the first 5 rows of the DataFrame\n",
        "else:\n",
        "    print(\"CSV file not found.\")"
      ]
    },
    {
      "cell_type": "code",
      "execution_count": null,
      "metadata": {
        "colab": {
          "base_uri": "https://localhost:8080/"
        },
        "id": "VpmZ5tERmI2H",
        "outputId": "20240ba3-3aaf-4155-d549-80380b09255c"
      },
      "outputs": [
        {
          "output_type": "execute_result",
          "data": {
            "text/plain": [
              "(284807, 31)"
            ]
          },
          "metadata": {},
          "execution_count": 7
        }
      ],
      "source": [
        "df.shape"
      ]
    },
    {
      "cell_type": "code",
      "execution_count": null,
      "metadata": {
        "colab": {
          "base_uri": "https://localhost:8080/"
        },
        "id": "ATRfzHC6mI2H",
        "outputId": "2ee938d2-4fba-4f88-f6b0-ea7c5808b1d9"
      },
      "outputs": [
        {
          "output_type": "stream",
          "name": "stdout",
          "text": [
            "Features shape: (284807, 29)\n",
            "Labels shape: (284807,)\n"
          ]
        }
      ],
      "source": [
        "# Separate into X and y\n",
        "X = df.drop(columns=['Time','Class'])\n",
        "y = df['Class']\n",
        "\n",
        "# Check the shape of X and y to ensure they're correct\n",
        "print(f\"Features shape: {X.shape}\")\n",
        "print(f\"Labels shape: {y.shape}\")"
      ]
    },
    {
      "cell_type": "code",
      "execution_count": null,
      "metadata": {
        "colab": {
          "base_uri": "https://localhost:8080/"
        },
        "id": "p5pIO_WYmI2I",
        "outputId": "d2b81619-7736-48cc-f91a-02b57a528d0c"
      },
      "outputs": [
        {
          "output_type": "stream",
          "name": "stdout",
          "text": [
            "X_train shape: torch.Size([227845, 29])\n",
            "X_test shape: torch.Size([56962, 29])\n",
            "y_train shape: torch.Size([227845])\n",
            "y_test shape: torch.Size([56962])\n"
          ]
        }
      ],
      "source": [
        "# Perform an 80/20 train-test split\n",
        "X_train, X_test, y_train, y_test = train_test_split(X, y, test_size=0.2, random_state=42)\n",
        "\n",
        "# Convert the DataFrames to PyTorch tensors\n",
        "X_train = torch.tensor(X_train.values, dtype=torch.float)\n",
        "X_test = torch.tensor(X_test.values, dtype=torch.float)\n",
        "y_train = torch.tensor(y_train.values, dtype=torch.float)\n",
        "y_test = torch.tensor(y_test.values, dtype=torch.float)\n",
        "\n",
        "# Check the shapes of the tensors\n",
        "print(f\"X_train shape: {X_train.shape}\")\n",
        "print(f\"X_test shape: {X_test.shape}\")\n",
        "print(f\"y_train shape: {y_train.shape}\")\n",
        "print(f\"y_test shape: {y_test.shape}\")"
      ]
    },
    {
      "cell_type": "code",
      "execution_count": null,
      "metadata": {
        "colab": {
          "base_uri": "https://localhost:8080/"
        },
        "id": "n53_I9H0mI2I",
        "outputId": "ac98183d-14a3-46b3-9373-483deccdd533"
      },
      "outputs": [
        {
          "output_type": "stream",
          "name": "stdout",
          "text": [
            "You are using cpu.\n"
          ]
        }
      ],
      "source": [
        "# Check if CUDA is available and set device\n",
        "device = torch.device(\"cuda\" if torch.cuda.is_available() else \"cpu\")\n",
        "print(f'You are using {device}.')"
      ]
    },
    {
      "cell_type": "code",
      "execution_count": null,
      "metadata": {
        "colab": {
          "base_uri": "https://localhost:8080/"
        },
        "id": "CI7lhPkEmI2I",
        "outputId": "04361f46-a396-4beb-8e3e-70cdb1491136"
      },
      "outputs": [
        {
          "output_type": "stream",
          "name": "stdout",
          "text": [
            "X_train is on: cpu\n",
            "X_test is on: cpu\n",
            "y_train is on: cpu\n",
            "y_test is on: cpu\n"
          ]
        }
      ],
      "source": [
        "# Move tensors to the appropriate device\n",
        "X_train = X_train.to(device)\n",
        "X_test = X_test.to(device)\n",
        "y_train = y_train.to(device)\n",
        "y_test = y_test.to(device)\n",
        "\n",
        "# Verify the device of the tensors\n",
        "print(f\"X_train is on: {X_train.device}\")\n",
        "print(f\"X_test is on: {X_test.device}\")\n",
        "print(f\"y_train is on: {y_train.device}\")\n",
        "print(f\"y_test is on: {y_test.device}\")"
      ]
    },
    {
      "cell_type": "code",
      "source": [
        "# Check the distribution of the target variable y\n",
        "class_distribution = y.value_counts()\n",
        "\n",
        "print(class_distribution)"
      ],
      "metadata": {
        "id": "9UFjGh3HYGk6",
        "outputId": "62d425e0-72a6-4a76-ef49-fb76e56096dd",
        "colab": {
          "base_uri": "https://localhost:8080/"
        }
      },
      "execution_count": null,
      "outputs": [
        {
          "output_type": "stream",
          "name": "stdout",
          "text": [
            "Class\n",
            "0    284315\n",
            "1       492\n",
            "Name: count, dtype: int64\n"
          ]
        }
      ]
    },
    {
      "cell_type": "markdown",
      "source": [
        "This disproportionately non-fraud.\n",
        "\n",
        "Solution: oversampling the minority class\n",
        "*   Reasoning: Oversampling increases the number of fraud cases in your training data by duplicating or synthesizing new fraud examples. This balances the class distribution and gives the model more opportunities to learn from fraudulent patterns.\n"
      ],
      "metadata": {
        "id": "HdKYMNVWYD9K"
      }
    },
    {
      "cell_type": "code",
      "source": [
        "from imblearn.over_sampling import RandomOverSampler\n",
        "\n",
        "# Create an oversampler object\n",
        "ros = RandomOverSampler(random_state=42)\n",
        "\n",
        "# Resample the training data\n",
        "X_train, y_train = ros.fit_resample(X_train.cpu(), y_train.cpu())\n",
        "\n",
        "# Convert the resampled data back to PyTorch tensors and move to device\n",
        "X_train = torch.tensor(X_train, dtype=torch.float).to(device)\n",
        "y_train = torch.tensor(y_train, dtype=torch.float).to(device)\n",
        "print(f\"X_train shape: {X_train.shape}\")\n",
        "print(f\"y_train shape: {y_train.shape}\")"
      ],
      "metadata": {
        "id": "k6EpiY83YC-h",
        "outputId": "dcc168ef-de6e-4150-eda6-7e77cf65d2c6",
        "colab": {
          "base_uri": "https://localhost:8080/"
        }
      },
      "execution_count": null,
      "outputs": [
        {
          "output_type": "stream",
          "name": "stdout",
          "text": [
            "X_train shape: torch.Size([454902, 29])\n",
            "y_train shape: torch.Size([454902])\n"
          ]
        }
      ]
    },
    {
      "cell_type": "code",
      "execution_count": null,
      "metadata": {
        "colab": {
          "base_uri": "https://localhost:8080/"
        },
        "id": "AAtTVfxEmI2I",
        "outputId": "5460abe9-89dc-47b8-cc93-32dee35f1dd0"
      },
      "outputs": [
        {
          "output_type": "stream",
          "name": "stdout",
          "text": [
            "29\n",
            "CC_Fraud_Model(\n",
            "  (linear_layer_stack): Sequential(\n",
            "    (0): Linear(in_features=29, out_features=20, bias=True)\n",
            "    (1): ReLU()\n",
            "    (2): Linear(in_features=20, out_features=20, bias=True)\n",
            "    (3): ReLU()\n",
            "    (4): Linear(in_features=20, out_features=1, bias=True)\n",
            "  )\n",
            ")\n",
            "Model is on: cpu\n"
          ]
        }
      ],
      "source": [
        "# Build model\n",
        "\n",
        "class CC_Fraud_Model(nn.Module):\n",
        "    def __init__(self, input_features, output_features, hidden_units=10):\n",
        "        super().__init__()\n",
        "        self.linear_layer_stack = nn.Sequential(\n",
        "            nn.Linear(in_features=input_features, out_features=hidden_units),\n",
        "            nn.ReLU(),\n",
        "            nn.Linear(in_features=hidden_units, out_features=hidden_units),\n",
        "            nn.ReLU(),\n",
        "            nn.Linear(in_features=hidden_units, out_features=output_features) # Output should be 1 for binary classification\n",
        "        )\n",
        "\n",
        "    def forward(self, x):\n",
        "        return self.linear_layer_stack(x)\n",
        "\n",
        "input_features = X_train.shape[1]\n",
        "print(input_features)\n",
        "# unique_classes = torch.unique(y_test) # This is causing the issue.\n",
        "# unique_classes.numel() # You want 1 output for binary classification\n",
        "# print(unique_classes.numel())\n",
        "\n",
        "# Create instance of model\n",
        "#Change the output_features to 1 for binary classification\n",
        "model = CC_Fraud_Model(input_features=X_test.shape[1],output_features=1,hidden_units=20)\n",
        "model.to(device)\n",
        "print(model)\n",
        "print(f\"Model is on: {next(model.parameters()).device}\")"
      ]
    },
    {
      "cell_type": "code",
      "execution_count": null,
      "metadata": {
        "id": "IP_1atbwmI2I"
      },
      "outputs": [],
      "source": [
        "# Create loss and optimizer\n",
        "loss_fn = nn.BCEWithLogitsLoss()\n",
        "optimizer = torch.optim.SGD(model.parameters(), lr=0.005)"
      ]
    },
    {
      "cell_type": "code",
      "execution_count": null,
      "metadata": {
        "id": "QJhrpnrSmI2I"
      },
      "outputs": [],
      "source": [
        "# Calculate accuracy (a classification metric)\n",
        "def accuracy_fn(y_true, y_pred):\n",
        "    correct = torch.eq(y_true, y_pred).sum().item() # torch.eq() calculates where two tensors are equal\n",
        "    acc = (correct / len(y_pred)) * 100\n",
        "    return acc"
      ]
    },
    {
      "cell_type": "code",
      "execution_count": null,
      "metadata": {
        "colab": {
          "base_uri": "https://localhost:8080/"
        },
        "id": "5nefntgLmI2J",
        "outputId": "bdbb3991-a465-4a60-d56d-c31c057ccbec"
      },
      "outputs": [
        {
          "output_type": "stream",
          "name": "stdout",
          "text": [
            "Epoch: 0 | Loss: 0.83967, Accuracy: 51.22% | Test Loss: 1.3525, Test Acc: 43.49%\n",
            "Epoch: 50 | Loss: 0.67487, Accuracy: 65.01% | Test Loss: 0.89337, Test Acc: 59.11%\n",
            "Epoch: 100 | Loss: 0.60526, Accuracy: 84.73% | Test Loss: 0.82204, Test Acc: 64.04%\n",
            "Epoch: 150 | Loss: 0.56225, Accuracy: 86.42% | Test Loss: 0.79513, Test Acc: 66.04%\n",
            "Epoch: 200 | Loss: 0.54120, Accuracy: 87.30% | Test Loss: 0.7488, Test Acc: 71.64%\n",
            "Epoch: 250 | Loss: 0.46533, Accuracy: 88.73% | Test Loss: 0.67346, Test Acc: 82.01%\n",
            "Epoch: 300 | Loss: 0.45765, Accuracy: 89.09% | Test Loss: 0.68146, Test Acc: 79.94%\n",
            "Epoch: 350 | Loss: 0.44325, Accuracy: 89.35% | Test Loss: 0.66985, Test Acc: 81.30%\n",
            "Epoch: 400 | Loss: 0.42738, Accuracy: 89.53% | Test Loss: 0.65224, Test Acc: 83.27%\n",
            "Epoch: 450 | Loss: 0.41787, Accuracy: 89.62% | Test Loss: 0.63097, Test Acc: 85.43%\n"
          ]
        }
      ],
      "source": [
        "torch.manual_seed(42)\n",
        "epochs = 500\n",
        "epoch_print = epochs/10\n",
        "\n",
        "# Create empty loss lists to track values\n",
        "train_loss_values = []\n",
        "test_loss_values = []\n",
        "train_acc_values = []\n",
        "test_acc_values = []\n",
        "epoch_count = []\n",
        "\n",
        "for epoch in range(epochs):\n",
        "\n",
        "  # Put model in training mode\n",
        "  model.train()\n",
        "\n",
        "  # 1. Forward pass\n",
        "  y_logits = model(X_train).squeeze() # squeeze to remove extra dimension\n",
        "  y_pred = torch.round(torch.sigmoid(y_logits)) # ensure y_pred and y_train have the same shape\n",
        "\n",
        "  # 2. Calculate loss and accuracy\n",
        "  loss = loss_fn(y_logits, y_train) # y_logits and y_train should now have compatible shapes\n",
        "  acc = accuracy_fn(y_true=y_train,\n",
        "                    y_pred=y_pred)\n",
        "\n",
        "  # 3. Optimizer zero grad\n",
        "  optimizer.zero_grad()\n",
        "\n",
        "  # 4. Loss backward\n",
        "  loss.backward()\n",
        "\n",
        "  # 5. Optimizer step\n",
        "  optimizer.step()\n",
        "\n",
        "  # Testing\n",
        "\n",
        "  # Put model into evaluation mode\n",
        "  model.eval()\n",
        "\n",
        "  with torch.inference_mode():\n",
        "      # 1. Forward pass\n",
        "      test_logits = model(X_test).squeeze() # squeeze to remove extra dimension\n",
        "      test_pred = torch.round(torch.sigmoid(test_logits))# ensure test_pred and y_test have the same shape\n",
        "      # 2. Calculate loss and accuracy\n",
        "      test_loss = loss_fn(test_logits, y_test)# test_logits and y_test should now have compatible shapes\n",
        "      test_acc = accuracy_fn(y_true=y_test,\n",
        "                              y_pred=test_pred)\n",
        "\n",
        "\n",
        "  # Print out what's happening\n",
        "  if epoch % 10 == 0:\n",
        "    epoch_count.append(epoch)\n",
        "    train_loss_values.append(loss.item())\n",
        "    test_loss_values.append(test_loss.item())\n",
        "    train_acc_values.append(acc)\n",
        "    test_acc_values.append(test_acc)\n",
        "  if epoch % epoch_print == 0:\n",
        "    print(f\"Epoch: {epoch} | Loss: {loss:.5f}, Accuracy: {acc:.2f}% | Test Loss: {test_loss:.5}, Test Acc: {test_acc:.2f}%\")"
      ]
    },
    {
      "cell_type": "code",
      "source": [
        "# Plot the loss curves\n",
        "plt.plot(epoch_count, train_loss_values, label=\"Train loss\", color='b')\n",
        "plt.plot(epoch_count, test_loss_values, label=\"Test loss\", color='r')\n",
        "plt.title(\"Training and test loss curves\")\n",
        "plt.ylabel(\"Loss\")\n",
        "plt.xlabel(\"Epochs\")\n",
        "plt.legend();"
      ],
      "metadata": {
        "colab": {
          "base_uri": "https://localhost:8080/",
          "height": 472
        },
        "id": "5AQPDfcSSHHZ",
        "outputId": "490b3bd5-d084-4837-bce7-ec0b99e24dcb"
      },
      "execution_count": null,
      "outputs": [
        {
          "output_type": "display_data",
          "data": {
            "text/plain": [
              "<Figure size 640x480 with 1 Axes>"
            ],
            "image/png": "[encoded data removed]"
          },
          "metadata": {}
        }
      ]
    },
    {
      "cell_type": "code",
      "source": [
        "# Plot the accuracy curves\n",
        "plt.plot(epoch_count, train_acc_values, label=\"Train accuracy\", color='b')\n",
        "plt.plot(epoch_count, test_acc_values, label=\"Test accuracy\", color='r')\n",
        "plt.title(\"Training and test accuracy curves\")\n",
        "plt.ylabel(\"Accuracy\")\n",
        "plt.xlabel(\"Epochs\")\n",
        "plt.legend();"
      ],
      "metadata": {
        "colab": {
          "base_uri": "https://localhost:8080/",
          "height": 472
        },
        "id": "EnXUjNVPhEV9",
        "outputId": "0e884942-eef1-4449-d70e-3faa41943467"
      },
      "execution_count": null,
      "outputs": [
        {
          "output_type": "display_data",
          "data": {
            "text/plain": [
              "<Figure size 640x480 with 1 Axes>"
            ],
            "image/png": "[encoded data removed]"
          },
          "metadata": {}
        }
      ]
    },
    {
      "cell_type": "code",
      "source": [
        "test_acc = accuracy_fn(y_true=y_test, y_pred=test_pred)"
      ],
      "metadata": {
        "id": "ROW3-8qkPlbT"
      },
      "execution_count": null,
      "outputs": []
    },
    {
      "cell_type": "code",
      "source": [
        "print(f\"Test accuracy: {test_acc:.2f}%\")"
      ],
      "metadata": {
        "colab": {
          "base_uri": "https://localhost:8080/"
        },
        "id": "44_jyRZHNxsm",
        "outputId": "6b7eccc8-443c-4154-8894-c53be677d1f0"
      },
      "execution_count": null,
      "outputs": [
        {
          "output_type": "stream",
          "name": "stdout",
          "text": [
            "Test accuracy: 97.36%\n"
          ]
        }
      ]
    },
    {
      "cell_type": "code",
      "source": [
        "# Save the model's state_dict to a file\n",
        "torch.save(model.state_dict(), 'cc_fraud_model.pth')"
      ],
      "metadata": {
        "id": "DVpymtWSKrsK"
      },
      "execution_count": null,
      "outputs": []
    },
    {
      "cell_type": "code",
      "source": [
        "loaded_model = CC_Fraud_Model(input_features=X_test.shape[1],output_features=1,hidden_units=20)"
      ],
      "metadata": {
        "id": "BnjrCe0Ri5oj"
      },
      "execution_count": null,
      "outputs": []
    },
    {
      "cell_type": "code",
      "source": [
        "loaded_model.load_state_dict(torch.load('cc_fraud_model.pth'))"
      ],
      "metadata": {
        "id": "U0xqf9w6jSrp",
        "outputId": "b47b478c-3933-4a09-bb34-5169a5d7c76e",
        "colab": {
          "base_uri": "https://localhost:8080/"
        }
      },
      "execution_count": null,
      "outputs": [
        {
          "output_type": "stream",
          "name": "stderr",
          "text": [
            "<ipython-input-29-24a21ff599b9>:1: FutureWarning: You are using `torch.load` with `weights_only=False` (the current default value), which uses the default pickle module implicitly. It is possible to construct malicious pickle data which will execute arbitrary code during unpickling (See https://github.com/pytorch/pytorch/blob/main/SECURITY.md#untrusted-models for more details). In a future release, the default value for `weights_only` will be flipped to `True`. This limits the functions that could be executed during unpickling. Arbitrary objects will no longer be allowed to be loaded via this mode unless they are explicitly allowlisted by the user via `torch.serialization.add_safe_globals`. We recommend you start setting `weights_only=True` for any use case where you don't have full control of the loaded file. Please open an issue on GitHub for any issues related to this experimental feature.\n",
            "  loaded_model.load_state_dict(torch.load('cc_fraud_model.pth'))\n"
          ]
        },
        {
          "output_type": "execute_result",
          "data": {
            "text/plain": [
              "<All keys matched successfully>"
            ]
          },
          "metadata": {},
          "execution_count": 29
        }
      ]
    },
    {
      "cell_type": "code",
      "source": [
        "from operator import is_\n",
        "\n",
        "# Collect the test data with fraud\n",
        "fraud_index = torch.where(y_test == 1)[0]\n",
        "\n",
        "# Get a random index from fraud_index\n",
        "random_fraud_index = random.choice(fraud_index.tolist())\n",
        "\n",
        "# Use fraud index in model\n",
        "loaded_model.eval()\n",
        "with torch.inference_mode():\n",
        "    # Forward pass\n",
        "    y_logits = loaded_model(X_test[random_fraud_index])\n",
        "    y_pred = torch.round(torch.sigmoid(y_logits))\n",
        "    if y_test[random_fraud_index] == 1:\n",
        "        true_fraud_value = \"Fraud\"\n",
        "    else:\n",
        "        true_fraud_value = \"Not Fraud\"\n",
        "\n",
        "    if y_pred == 1:\n",
        "        pre_fraud_value = \"Fraud\"\n",
        "    else:\n",
        "        pre_fraud_value = \"Not Fraud\"\n",
        "    print(f'Test index: {random_fraud_index}, Prediction: {pre_fraud_value}, Truth: {true_fraud_value}')"
      ],
      "metadata": {
        "id": "CzFFiBfEjVgj",
        "outputId": "017a01be-6066-441b-eef6-bb36273d281e",
        "colab": {
          "base_uri": "https://localhost:8080/"
        }
      },
      "execution_count": null,
      "outputs": [
        {
          "output_type": "stream",
          "name": "stdout",
          "text": [
            "Test index: 53465, Prediction: Fraud, Truth: Fraud\n"
          ]
        }
      ]
    },
    {
      "cell_type": "code",
      "source": [],
      "metadata": {
        "id": "vtJkwSTmjncr"
      },
      "execution_count": null,
      "outputs": []
    }
  ],
  "metadata": {
    "kernelspec": {
      "display_name": "Python 3",
      "language": "python",
      "name": "python3"
    },
    "language_info": {
      "codemirror_mode": {
        "name": "ipython",
        "version": 3
      },
      "file_extension": ".py",
      "mimetype": "text/x-python",
      "name": "python",
      "nbconvert_exporter": "python",
      "pygments_lexer": "ipython3",
      "version": "3.10.11"
    },
    "colab": {
      "provenance": [],
      "include_colab_link": true
    }
  },
  "nbformat": 4,
  "nbformat_minor": 0
}