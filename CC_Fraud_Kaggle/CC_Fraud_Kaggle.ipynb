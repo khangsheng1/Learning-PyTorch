{
  "cells": [
    {
      "cell_type": "code",
      "execution_count": 25,
      "metadata": {
        "id": "6fkL6CmucH_R"
      },
      "outputs": [],
      "source": [
        "# Kaggle dataset URL: https://www.kaggle.com/datasets/mlg-ulb/creditcardfraud"
      ]
    },
    {
      "cell_type": "code",
      "execution_count": 26,
      "metadata": {
        "id": "lRBtqEJNmI2G"
      },
      "outputs": [],
      "source": [
        "import os\n",
        "import torch\n",
        "import torch.nn as nn\n",
        "import zipfile\n",
        "import pandas as pd\n",
        "from sklearn.model_selection import train_test_split\n",
        "import random\n",
        "import numpy as np\n",
        "import matplotlib.pyplot as plt\n",
        "import pandas as pd"
      ]
    },
    {
      "cell_type": "code",
      "execution_count": 27,
      "metadata": {},
      "outputs": [
        {
          "name": "stdout",
          "output_type": "stream",
          "text": [
            "Not running in Google Colab, opening file dialog.\n",
            "Selected file: C:/Users/khang/Desktop/PyTorch Tutorial/Kaggle Credit Card Fraud/kaggle.json\n",
            "File C:/Users/khang/Desktop/PyTorch Tutorial/Kaggle Credit Card Fraud/kaggle.json found and ready to process.\n"
          ]
        }
      ],
      "source": [
        "# Check if running in Google Colab\n",
        "try:\n",
        "    from google.colab import files\n",
        "    IN_COLAB = True\n",
        "except ImportError:\n",
        "    IN_COLAB = False\n",
        "\n",
        "# If not in Colab, use tkinter to open file dialog\n",
        "if not IN_COLAB:\n",
        "    from tkinter import Tk\n",
        "    from tkinter.filedialog import askopenfilename\n",
        "\n",
        "# File upload or loading depending on environment\n",
        "if IN_COLAB:\n",
        "    print(\"Running in Google Colab, using files.upload()\")\n",
        "    uploaded = files.upload()\n",
        "    filename = next(iter(uploaded))  # Get the uploaded file name\n",
        "    \n",
        "    !mkdir -p ~/.kaggle\n",
        "    !mv kaggle.json ~/.kaggle/\n",
        "    !chmod 600 ~/.kaggle/kaggle.json\n",
        "else:\n",
        "    print(\"Not running in Google Colab, opening file dialog.\")\n",
        "    \n",
        "    # Hide the root window\n",
        "    root = Tk()\n",
        "    root.withdraw()  # Hide the root window (it will only show the file dialog)\n",
        "    \n",
        "    # Open file dialog\n",
        "    filename = askopenfilename(title=\"Select a file\", filetypes=[(\"All files\", \"*.*\")])\n",
        "    \n",
        "    if filename:\n",
        "        print(f\"Selected file: {filename}\")\n",
        "    else:\n",
        "        print(\"No file selected.\")\n",
        "\n",
        "# Example of using the uploaded or provided file\n",
        "if filename and os.path.exists(filename):\n",
        "    print(f\"File {filename} found and ready to process.\")\n",
        "else:\n",
        "    print(f\"File {filename} not found.\")"
      ]
    },
    {
      "cell_type": "code",
      "execution_count": 28,
      "metadata": {
        "colab": {
          "base_uri": "https://localhost:8080/"
        },
        "id": "pIzAoI8emI2H",
        "outputId": "d7fcfd94-838b-409e-e136-b6740e99b395"
      },
      "outputs": [
        {
          "name": "stdout",
          "output_type": "stream",
          "text": [
            "Dataset URL: https://www.kaggle.com/datasets/mlg-ulb/creditcardfraud\n",
            "License(s): DbCL-1.0\n",
            "Downloading creditcardfraud.zip to ./datasets\n",
            "\n"
          ]
        },
        {
          "name": "stderr",
          "output_type": "stream",
          "text": [
            "\n",
            "  0%|          | 0.00/66.0M [00:00<?, ?B/s]\n",
            "  2%|▏         | 1.00M/66.0M [00:00<00:07, 9.25MB/s]\n",
            "  5%|▍         | 3.00M/66.0M [00:00<00:04, 15.4MB/s]\n",
            " 14%|█▎        | 9.00M/66.0M [00:00<00:01, 33.2MB/s]\n",
            " 21%|██        | 14.0M/66.0M [00:00<00:01, 36.9MB/s]\n",
            " 29%|██▉       | 19.0M/66.0M [00:00<00:01, 39.4MB/s]\n",
            " 36%|███▋      | 24.0M/66.0M [00:00<00:01, 41.2MB/s]\n",
            " 44%|████▍     | 29.0M/66.0M [00:00<00:00, 42.4MB/s]\n",
            " 52%|█████▏    | 34.0M/66.0M [00:00<00:00, 42.9MB/s]\n",
            " 59%|█████▉    | 39.0M/66.0M [00:01<00:00, 43.6MB/s]\n",
            " 67%|██████▋   | 44.0M/66.0M [00:01<00:00, 43.1MB/s]\n",
            " 74%|███████▍  | 49.0M/66.0M [00:01<00:00, 43.8MB/s]\n",
            " 82%|████████▏ | 54.0M/66.0M [00:01<00:00, 43.2MB/s]\n",
            " 89%|████████▉ | 59.0M/66.0M [00:01<00:00, 42.1MB/s]\n",
            " 97%|█████████▋| 64.0M/66.0M [00:01<00:00, 43.3MB/s]\n",
            "100%|██████████| 66.0M/66.0M [00:01<00:00, 40.4MB/s]\n"
          ]
        }
      ],
      "source": [
        "!kaggle datasets download -d mlg-ulb/creditcardfraud -p ./datasets/"
      ]
    },
    {
      "cell_type": "code",
      "execution_count": 29,
      "metadata": {
        "colab": {
          "base_uri": "https://localhost:8080/"
        },
        "id": "ZrBGV8mOmI2H",
        "outputId": "5f93c7f4-06d6-47f4-e2ee-8da713652519"
      },
      "outputs": [
        {
          "name": "stdout",
          "output_type": "stream",
          "text": [
            "Files extracted to: ./datasets/extracted/\n"
          ]
        }
      ],
      "source": [
        "# Define the path to your zip file\n",
        "zip_file_path = './datasets/creditcardfraud.zip'\n",
        "extracted_path = './datasets/extracted/'\n",
        "\n",
        "# Check if the file exists\n",
        "if os.path.exists(zip_file_path):\n",
        "    # Open the zip file in read mode\n",
        "    with zipfile.ZipFile(zip_file_path, 'r') as zip_ref:\n",
        "        # Extract all the contents of the zip file to a directory\n",
        "        zip_ref.extractall(extracted_path)\n",
        "        print(f'Files extracted to: {extracted_path}')\n",
        "else:\n",
        "    print(\"Zip file does not exist.\")"
      ]
    },
    {
      "cell_type": "code",
      "execution_count": 30,
      "metadata": {
        "colab": {
          "base_uri": "https://localhost:8080/"
        },
        "id": "eXzkl44EmI2H",
        "outputId": "c01afc8f-d59d-4ec2-b92d-3c018d4368e7"
      },
      "outputs": [
        {
          "name": "stdout",
          "output_type": "stream",
          "text": [
            "   Time        V1        V2        V3        V4        V5        V6        V7  \\\n",
            "0   0.0 -1.359807 -0.072781  2.536347  1.378155 -0.338321  0.462388  0.239599   \n",
            "1   0.0  1.191857  0.266151  0.166480  0.448154  0.060018 -0.082361 -0.078803   \n",
            "2   1.0 -1.358354 -1.340163  1.773209  0.379780 -0.503198  1.800499  0.791461   \n",
            "3   1.0 -0.966272 -0.185226  1.792993 -0.863291 -0.010309  1.247203  0.237609   \n",
            "4   2.0 -1.158233  0.877737  1.548718  0.403034 -0.407193  0.095921  0.592941   \n",
            "\n",
            "         V8        V9  ...       V21       V22       V23       V24       V25  \\\n",
            "0  0.098698  0.363787  ... -0.018307  0.277838 -0.110474  0.066928  0.128539   \n",
            "1  0.085102 -0.255425  ... -0.225775 -0.638672  0.101288 -0.339846  0.167170   \n",
            "2  0.247676 -1.514654  ...  0.247998  0.771679  0.909412 -0.689281 -0.327642   \n",
            "3  0.377436 -1.387024  ... -0.108300  0.005274 -0.190321 -1.175575  0.647376   \n",
            "4 -0.270533  0.817739  ... -0.009431  0.798278 -0.137458  0.141267 -0.206010   \n",
            "\n",
            "        V26       V27       V28  Amount  Class  \n",
            "0 -0.189115  0.133558 -0.021053  149.62      0  \n",
            "1  0.125895 -0.008983  0.014724    2.69      0  \n",
            "2 -0.139097 -0.055353 -0.059752  378.66      0  \n",
            "3 -0.221929  0.062723  0.061458  123.50      0  \n",
            "4  0.502292  0.219422  0.215153   69.99      0  \n",
            "\n",
            "[5 rows x 31 columns]\n"
          ]
        }
      ],
      "source": [
        "# Assuming there's a CSV file in the extracted folder\n",
        "csv_file_path = os.path.join(extracted_path, 'creditcard.csv')\n",
        "\n",
        "# Load the CSV into a pandas DataFrame\n",
        "if os.path.exists(csv_file_path):\n",
        "    df = pd.read_csv(csv_file_path)\n",
        "    print(df.head())  # Print the first 5 rows of the DataFrame\n",
        "else:\n",
        "    print(\"CSV file not found.\")"
      ]
    },
    {
      "cell_type": "code",
      "execution_count": 31,
      "metadata": {
        "colab": {
          "base_uri": "https://localhost:8080/"
        },
        "id": "VpmZ5tERmI2H",
        "outputId": "9b2c3f8f-5ff9-48ad-ffe3-216bc760d660"
      },
      "outputs": [
        {
          "data": {
            "text/plain": [
              "(284807, 31)"
            ]
          },
          "execution_count": 31,
          "metadata": {},
          "output_type": "execute_result"
        }
      ],
      "source": [
        "df.shape"
      ]
    },
    {
      "cell_type": "code",
      "execution_count": 32,
      "metadata": {
        "colab": {
          "base_uri": "https://localhost:8080/"
        },
        "id": "ATRfzHC6mI2H",
        "outputId": "1196b8da-a93b-4ef0-c608-e3be76b21390"
      },
      "outputs": [
        {
          "name": "stdout",
          "output_type": "stream",
          "text": [
            "Features shape: (284807, 29)\n",
            "Labels shape: (284807,)\n"
          ]
        }
      ],
      "source": [
        "# Separate into X and y\n",
        "X = df.drop(columns=['Time','Class'])\n",
        "y = df['Class']\n",
        "\n",
        "# Check the shape of X and y to ensure they're correct\n",
        "print(f\"Features shape: {X.shape}\")\n",
        "print(f\"Labels shape: {y.shape}\")"
      ]
    },
    {
      "cell_type": "code",
      "execution_count": 33,
      "metadata": {
        "colab": {
          "base_uri": "https://localhost:8080/"
        },
        "id": "p5pIO_WYmI2I",
        "outputId": "f1973b6f-b965-4a05-f3b4-cb904ad1771d"
      },
      "outputs": [
        {
          "name": "stdout",
          "output_type": "stream",
          "text": [
            "X_train shape: torch.Size([227845, 29])\n",
            "X_test shape: torch.Size([56962, 29])\n",
            "y_train shape: torch.Size([227845])\n",
            "y_test shape: torch.Size([56962])\n"
          ]
        }
      ],
      "source": [
        "# Perform an 80/20 train-test split\n",
        "X_train, X_test, y_train, y_test = train_test_split(X, y, test_size=0.2, random_state=42)\n",
        "\n",
        "# Convert the DataFrames to PyTorch tensors\n",
        "X_train = torch.tensor(X_train.values, dtype=torch.float)\n",
        "X_test = torch.tensor(X_test.values, dtype=torch.float)\n",
        "y_train = torch.tensor(y_train.values, dtype=torch.float)\n",
        "y_test = torch.tensor(y_test.values, dtype=torch.float)\n",
        "\n",
        "# Check the shapes of the tensors\n",
        "print(f\"X_train shape: {X_train.shape}\")\n",
        "print(f\"X_test shape: {X_test.shape}\")\n",
        "print(f\"y_train shape: {y_train.shape}\")\n",
        "print(f\"y_test shape: {y_test.shape}\")"
      ]
    },
    {
      "cell_type": "code",
      "execution_count": 34,
      "metadata": {
        "colab": {
          "base_uri": "https://localhost:8080/"
        },
        "id": "n53_I9H0mI2I",
        "outputId": "76bf9429-ca78-4a1f-ff43-fdbd1c0a4b97"
      },
      "outputs": [
        {
          "name": "stdout",
          "output_type": "stream",
          "text": [
            "You are using cuda.\n"
          ]
        }
      ],
      "source": [
        "# Check if CUDA is available and set device\n",
        "device = torch.device(\"cuda\" if torch.cuda.is_available() else \"cpu\")\n",
        "print(f'You are using {device}.')"
      ]
    },
    {
      "cell_type": "code",
      "execution_count": 35,
      "metadata": {
        "colab": {
          "base_uri": "https://localhost:8080/"
        },
        "id": "CI7lhPkEmI2I",
        "outputId": "5446bfac-41c6-4bb8-ba5e-3500ed9e7209"
      },
      "outputs": [
        {
          "name": "stdout",
          "output_type": "stream",
          "text": [
            "X_train is on: cuda:0\n",
            "X_test is on: cuda:0\n",
            "y_train is on: cuda:0\n",
            "y_test is on: cuda:0\n"
          ]
        }
      ],
      "source": [
        "# Move tensors to the appropriate device\n",
        "X_train = X_train.to(device)\n",
        "X_test = X_test.to(device)\n",
        "y_train = y_train.to(device)\n",
        "y_test = y_test.to(device)\n",
        "\n",
        "# Verify the device of the tensors\n",
        "print(f\"X_train is on: {X_train.device}\")\n",
        "print(f\"X_test is on: {X_test.device}\")\n",
        "print(f\"y_train is on: {y_train.device}\")\n",
        "print(f\"y_test is on: {y_test.device}\")"
      ]
    },
    {
      "cell_type": "code",
      "execution_count": 36,
      "metadata": {
        "colab": {
          "base_uri": "https://localhost:8080/"
        },
        "id": "9UFjGh3HYGk6",
        "outputId": "6f773f1c-fc4f-4a1d-8582-83fe66ec6d83"
      },
      "outputs": [
        {
          "name": "stdout",
          "output_type": "stream",
          "text": [
            "Class\n",
            "0    284315\n",
            "1       492\n",
            "Name: count, dtype: int64\n"
          ]
        }
      ],
      "source": [
        "# Check the distribution of the target variable y\n",
        "class_distribution = y.value_counts()\n",
        "\n",
        "print(class_distribution)"
      ]
    },
    {
      "cell_type": "markdown",
      "metadata": {
        "id": "HdKYMNVWYD9K"
      },
      "source": [
        "This disproportionately non-fraud.\n",
        "\n",
        "Oversampling the minority class\n",
        "*   Oversampling increases the number of fraud cases in your training data by duplicating or synthesizing new fraud examples. This balances the class distribution and gives the model more opportunities to learn from fraudulent patterns.\n",
        "\n",
        "\n",
        "Undersampling the majority class\n",
        "*   Decreases training time and computational costs. Reduces the risk of overfitting since the model sees more balanced classes.\n"
      ]
    },
    {
      "cell_type": "code",
      "execution_count": 37,
      "metadata": {
        "colab": {
          "base_uri": "https://localhost:8080/"
        },
        "id": "k6EpiY83YC-h",
        "outputId": "7a96ab33-57bd-4221-ead4-92f2e0a945e0"
      },
      "outputs": [
        {
          "name": "stdout",
          "output_type": "stream",
          "text": [
            "X_train shape: torch.Size([454902, 29])\n",
            "y_train shape: torch.Size([454902])\n",
            "[0. 1.] [227451 227451]\n"
          ]
        }
      ],
      "source": [
        "from imblearn.over_sampling import RandomOverSampler\n",
        "\n",
        "# Create an oversampler object\n",
        "ros = RandomOverSampler(random_state=42)\n",
        "\n",
        "# Resample the training data\n",
        "X_train, y_train = ros.fit_resample(X_train.cpu(), y_train.cpu())\n",
        "\n",
        "# Convert the resampled data back to PyTorch tensors and move to device\n",
        "X_train = torch.tensor(X_train, dtype=torch.float).to(device)\n",
        "y_train = torch.tensor(y_train, dtype=torch.float).to(device)\n",
        "print(f\"X_train shape: {X_train.shape}\")\n",
        "print(f\"y_train shape: {y_train.shape}\")\n",
        "\n",
        "# Check the distribution of the target variable y\n",
        "y_train_numpy = y_train.cpu().numpy()\n",
        "\n",
        "# Get unique values and their counts\n",
        "unique, counts = np.unique(y_train_numpy, return_counts=True)\n",
        "\n",
        "print(unique, counts)"
      ]
    },
    {
      "cell_type": "code",
      "execution_count": 38,
      "metadata": {
        "colab": {
          "base_uri": "https://localhost:8080/"
        },
        "id": "AAtTVfxEmI2I",
        "outputId": "2dd475e1-2b1b-4f71-8af0-2714d9cb2dce"
      },
      "outputs": [
        {
          "name": "stdout",
          "output_type": "stream",
          "text": [
            "29\n",
            "CC_Fraud_Model(\n",
            "  (linear_layer_stack): Sequential(\n",
            "    (0): Linear(in_features=29, out_features=20, bias=True)\n",
            "    (1): ReLU()\n",
            "    (2): Linear(in_features=20, out_features=20, bias=True)\n",
            "    (3): ReLU()\n",
            "    (4): Linear(in_features=20, out_features=1, bias=True)\n",
            "  )\n",
            ")\n",
            "Model is on: cuda:0\n"
          ]
        }
      ],
      "source": [
        "# Build model\n",
        "\n",
        "class CC_Fraud_Model(nn.Module):\n",
        "    def __init__(self, input_features, output_features, hidden_units=10):\n",
        "        super().__init__()\n",
        "        self.linear_layer_stack = nn.Sequential(\n",
        "            nn.Linear(in_features=input_features, out_features=hidden_units),\n",
        "            nn.ReLU(),\n",
        "            nn.Linear(in_features=hidden_units, out_features=hidden_units),\n",
        "            nn.ReLU(),\n",
        "            nn.Linear(in_features=hidden_units, out_features=output_features) # Output should be 1 for binary classification\n",
        "        )\n",
        "\n",
        "    def forward(self, x):\n",
        "        return self.linear_layer_stack(x)\n",
        "\n",
        "input_features = X_train.shape[1]\n",
        "print(input_features)\n",
        "# unique_classes = torch.unique(y_test) # This is causing the issue.\n",
        "# unique_classes.numel() # You want 1 output for binary classification\n",
        "# print(unique_classes.numel())\n",
        "\n",
        "# Create instance of model\n",
        "#Change the output_features to 1 for binary classification\n",
        "model = CC_Fraud_Model(input_features=X_test.shape[1],output_features=1,hidden_units=20)\n",
        "model.to(device)\n",
        "print(model)\n",
        "print(f\"Model is on: {next(model.parameters()).device}\")"
      ]
    },
    {
      "cell_type": "code",
      "execution_count": 39,
      "metadata": {
        "id": "IP_1atbwmI2I"
      },
      "outputs": [],
      "source": [
        "# Create loss and optimizer\n",
        "loss_fn = nn.BCEWithLogitsLoss()\n",
        "optimizer = torch.optim.SGD(model.parameters(), lr=0.003)"
      ]
    },
    {
      "cell_type": "code",
      "execution_count": 40,
      "metadata": {
        "id": "QJhrpnrSmI2I"
      },
      "outputs": [],
      "source": [
        "# Calculate accuracy (a classification metric)\n",
        "def accuracy_fn(y_true, y_pred):\n",
        "    correct = torch.eq(y_true, y_pred).sum().item() # torch.eq() calculates where two tensors are equal\n",
        "    acc = (correct / len(y_pred)) * 100\n",
        "    return acc"
      ]
    },
    {
      "cell_type": "code",
      "execution_count": 41,
      "metadata": {
        "colab": {
          "base_uri": "https://localhost:8080/"
        },
        "id": "5nefntgLmI2J",
        "outputId": "52ead06e-be89-430a-88bc-c36d1aafde35"
      },
      "outputs": [
        {
          "name": "stdout",
          "output_type": "stream",
          "text": [
            "Epoch: 0 | Loss: 1.60205, Accuracy: 49.89% | Test Loss: 2.2299, Test Acc: 0.21%\n",
            "Epoch: 100 | Loss: 0.57878, Accuracy: 50.04% | Test Loss: 0.68147, Test Acc: 35.79%\n",
            "Epoch: 200 | Loss: 0.53058, Accuracy: 52.39% | Test Loss: 0.63174, Test Acc: 56.82%\n",
            "Epoch: 300 | Loss: 0.49238, Accuracy: 59.81% | Test Loss: 0.60249, Test Acc: 68.36%\n",
            "Epoch: 400 | Loss: 0.46169, Accuracy: 70.30% | Test Loss: 0.58235, Test Acc: 79.36%\n",
            "Epoch: 500 | Loss: 0.43678, Accuracy: 79.87% | Test Loss: 0.54743, Test Acc: 87.53%\n",
            "Epoch: 600 | Loss: 0.41784, Accuracy: 85.03% | Test Loss: 0.53439, Test Acc: 91.99%\n",
            "Epoch: 700 | Loss: 0.41671, Accuracy: 84.61% | Test Loss: 0.49671, Test Acc: 94.96%\n",
            "Epoch: 800 | Loss: 0.38449, Accuracy: 90.48% | Test Loss: 0.493, Test Acc: 95.88%\n",
            "Epoch: 900 | Loss: 0.37514, Accuracy: 90.59% | Test Loss: 0.45908, Test Acc: 96.80%\n"
          ]
        }
      ],
      "source": [
        "torch.manual_seed(42)\n",
        "epochs = 1000\n",
        "epoch_print = epochs/10\n",
        "\n",
        "# Create empty loss lists to track values\n",
        "train_loss_values = []\n",
        "test_loss_values = []\n",
        "train_acc_values = []\n",
        "test_acc_values = []\n",
        "epoch_count = []\n",
        "\n",
        "for epoch in range(epochs):\n",
        "\n",
        "  # Put model in training mode\n",
        "  model.train()\n",
        "\n",
        "  # 1. Forward pass\n",
        "  y_logits = model(X_train).squeeze() # squeeze to remove extra dimension\n",
        "  y_pred = torch.round(torch.sigmoid(y_logits)) # ensure y_pred and y_train have the same shape\n",
        "\n",
        "  # 2. Calculate loss and accuracy\n",
        "  loss = loss_fn(y_logits, y_train) # y_logits and y_train should now have compatible shapes\n",
        "  acc = accuracy_fn(y_true=y_train,\n",
        "                    y_pred=y_pred)\n",
        "\n",
        "  # 3. Optimizer zero grad\n",
        "  optimizer.zero_grad()\n",
        "\n",
        "  # 4. Loss backward\n",
        "  loss.backward()\n",
        "\n",
        "  # 5. Optimizer step\n",
        "  optimizer.step()\n",
        "\n",
        "  # Testing\n",
        "\n",
        "  # Put model into evaluation mode\n",
        "  model.eval()\n",
        "\n",
        "  with torch.inference_mode():\n",
        "      # 1. Forward pass\n",
        "      test_logits = model(X_test).squeeze() # squeeze to remove extra dimension\n",
        "      test_pred = torch.round(torch.sigmoid(test_logits))# ensure test_pred and y_test have the same shape\n",
        "      # 2. Calculate loss and accuracy\n",
        "      test_loss = loss_fn(test_logits, y_test)# test_logits and y_test should now have compatible shapes\n",
        "      test_acc = accuracy_fn(y_true=y_test,\n",
        "                              y_pred=test_pred)\n",
        "\n",
        "\n",
        "  # Print out what's happening\n",
        "  if epoch % 10 == 0:\n",
        "    epoch_count.append(epoch)\n",
        "    train_loss_values.append(loss.item())\n",
        "    test_loss_values.append(test_loss.item())\n",
        "    train_acc_values.append(acc)\n",
        "    test_acc_values.append(test_acc)\n",
        "  if epoch % epoch_print == 0:\n",
        "    print(f\"Epoch: {epoch} | Loss: {loss:.5f}, Accuracy: {acc:.2f}% | Test Loss: {test_loss:.5}, Test Acc: {test_acc:.2f}%\")"
      ]
    },
    {
      "cell_type": "code",
      "execution_count": 42,
      "metadata": {
        "id": "5AQPDfcSSHHZ"
      },
      "outputs": [
        {
          "data": {
            "image/png": "[encoded data removed]",
            "text/plain": [
              "<Figure size 640x480 with 1 Axes>"
            ]
          },
          "metadata": {},
          "output_type": "display_data"
        }
      ],
      "source": [
        "# Plot the loss curves\n",
        "plt.plot(epoch_count, train_loss_values, label=\"Train loss\", color='b')\n",
        "plt.plot(epoch_count, test_loss_values, label=\"Test loss\", color='r')\n",
        "plt.title(\"Training and test loss curves\")\n",
        "plt.ylabel(\"Loss\")\n",
        "plt.xlabel(\"Epochs\")\n",
        "plt.legend()\n",
        "\n",
        "# Label points that fall on hundreds for train loss and add dots\n",
        "for i, (x, y) in enumerate(zip(epoch_count, train_loss_values)):\n",
        "    if x % 100 == 0:  # Only label points that are multiples of 100 on x-axis\n",
        "        plt.text(x, y + 0.025, f'{y:.2f}', color='b', fontsize=8)  # Label the train loss\n",
        "        plt.scatter(x, y, color='b')  # Add a dot at the labeled point\n",
        "\n",
        "# Label points that fall on hundreds for test loss and add dots\n",
        "for i, (x, y) in enumerate(zip(epoch_count, test_loss_values)):\n",
        "    if x % 100 == 0:  # Only label points that are multiples of 100 on x-axis\n",
        "        plt.text(x, y + 0.025, f'{y:.2f}', color='r', fontsize=8)  # Label above the test loss\n",
        "        plt.scatter(x, y, color='r')  # Add a dot at the labeled point\n",
        "\n",
        "plt.show()\n"
      ]
    },
    {
      "cell_type": "code",
      "execution_count": 43,
      "metadata": {
        "id": "EnXUjNVPhEV9"
      },
      "outputs": [
        {
          "data": {
            "image/png": "[encoded data removed]",
            "text/plain": [
              "<Figure size 640x480 with 1 Axes>"
            ]
          },
          "metadata": {},
          "output_type": "display_data"
        }
      ],
      "source": [
        "# Plot the accuracy curves\n",
        "plt.plot(epoch_count, train_acc_values, label=\"Train accuracy\", color='b')\n",
        "plt.plot(epoch_count, test_acc_values, label=\"Test accuracy\", color='r')\n",
        "plt.title(\"Training and test accuracy curves\")\n",
        "plt.ylabel(\"Accuracy\")\n",
        "plt.xlabel(\"Epochs\")\n",
        "plt.legend()\n",
        "\n",
        "# Label points that fall on hundreds\n",
        "for i, (x, y) in enumerate(zip(epoch_count, test_acc_values)):\n",
        "    if x % 100 == 0:  # Only label points that are multiples of 100 on x-axis\n",
        "        plt.text(x, y + 2.5, f'{y:.2f}%', color='r', fontsize=8)  # Label the test accuracy\n",
        "        plt.scatter(x, y, color='r')  # Add a dot at the labeled point\n",
        "\n",
        "for i, (x, y) in enumerate(zip(epoch_count, train_acc_values)):\n",
        "    if x % 100 == 0:  # Only label points that are multiples of 100 on x-axis\n",
        "        plt.text(x, y + 2.5, f'{y:.2f}%', color='b', fontsize=8)  # Label the train accuracy\n",
        "        plt.scatter(x, y, color='b')  # Add a dot at the labeled point\n",
        "\n",
        "plt.show()"
      ]
    },
    {
      "cell_type": "code",
      "execution_count": 44,
      "metadata": {
        "id": "ROW3-8qkPlbT"
      },
      "outputs": [
        {
          "name": "stdout",
          "output_type": "stream",
          "text": [
            "Test accuracy: 97.28%\n"
          ]
        }
      ],
      "source": [
        "print(f\"Test accuracy: {test_acc_values[-1]:.2f}%\")"
      ]
    },
    {
      "cell_type": "code",
      "execution_count": 45,
      "metadata": {
        "id": "DVpymtWSKrsK"
      },
      "outputs": [],
      "source": [
        "# Save the model's state_dict to a file\n",
        "torch.save(model.state_dict(), 'cc_fraud_model.pth')"
      ]
    },
    {
      "cell_type": "code",
      "execution_count": 46,
      "metadata": {
        "id": "BnjrCe0Ri5oj"
      },
      "outputs": [],
      "source": [
        "loaded_model = CC_Fraud_Model(input_features=X_test.shape[1],output_features=1,hidden_units=20)"
      ]
    },
    {
      "cell_type": "code",
      "execution_count": 47,
      "metadata": {
        "id": "U0xqf9w6jSrp"
      },
      "outputs": [
        {
          "data": {
            "text/plain": [
              "<All keys matched successfully>"
            ]
          },
          "execution_count": 47,
          "metadata": {},
          "output_type": "execute_result"
        }
      ],
      "source": [
        "loaded_model.load_state_dict(torch.load('cc_fraud_model.pth'))"
      ]
    },
    {
      "cell_type": "code",
      "execution_count": 48,
      "metadata": {
        "id": "CzFFiBfEjVgj"
      },
      "outputs": [
        {
          "name": "stdout",
          "output_type": "stream",
          "text": [
            "Test index: 27885, Prediction: Fraud, Truth: Fraud\n"
          ]
        }
      ],
      "source": [
        "from operator import is_\n",
        "\n",
        "# Collect the test data with fraud\n",
        "fraud_index = torch.where(y_test == 1)[0]\n",
        "\n",
        "# Get a random index from fraud_index\n",
        "random_fraud_index = random.choice(fraud_index.tolist())\n",
        "\n",
        "# Send model to device\n",
        "loaded_model.to(device)\n",
        "\n",
        "# Use fraud index in model\n",
        "loaded_model.eval()\n",
        "with torch.inference_mode():\n",
        "    # Forward pass\n",
        "    y_logits = loaded_model(X_test[random_fraud_index])\n",
        "    y_pred = torch.round(torch.sigmoid(y_logits))\n",
        "    if y_test[random_fraud_index] == 1:\n",
        "        true_fraud_value = \"Fraud\"\n",
        "    else:\n",
        "        true_fraud_value = \"Not Fraud\"\n",
        "\n",
        "    if y_pred == 1:\n",
        "        pre_fraud_value = \"Fraud\"\n",
        "    else:\n",
        "        pre_fraud_value = \"Not Fraud\"\n",
        "    print(f'Test index: {random_fraud_index}, Prediction: {pre_fraud_value}, Truth: {true_fraud_value}')"
      ]
    },
    {
      "cell_type": "code",
      "execution_count": null,
      "metadata": {
        "id": "vtJkwSTmjncr"
      },
      "outputs": [],
      "source": []
    }
  ],
  "metadata": {
    "colab": {
      "provenance": []
    },
    "kernelspec": {
      "display_name": "Python 3",
      "language": "python",
      "name": "python3"
    },
    "language_info": {
      "codemirror_mode": {
        "name": "ipython",
        "version": 3
      },
      "file_extension": ".py",
      "mimetype": "text/x-python",
      "name": "python",
      "nbconvert_exporter": "python",
      "pygments_lexer": "ipython3",
      "version": "3.10.11"
    }
  },
  "nbformat": 4,
  "nbformat_minor": 0
}
