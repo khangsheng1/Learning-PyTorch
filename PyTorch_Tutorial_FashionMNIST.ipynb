{
  "nbformat": 4,
  "nbformat_minor": 0,
  "metadata": {
    "colab": {
      "provenance": [],
      "gpuType": "T4",
      "authorship_tag": "ABX9TyN1HsmQTJEhh/eBfNiFQMGg",
      "include_colab_link": true
    },
    "kernelspec": {
      "name": "python3",
      "display_name": "Python 3"
    },
    "language_info": {
      "name": "python"
    },
    "accelerator": "GPU"
  },
  "cells": [
    {
      "cell_type": "markdown",
      "metadata": {
        "id": "view-in-github",
        "colab_type": "text"
      },
      "source": [
        "<a href=\"https://colab.research.google.com/github/khangsheng1/Learning-PyTorch/blob/main/PyTorch_Tutorial_FashionMNIST.ipynb\" target=\"_parent\"><img src=\"https://colab.research.google.com/assets/colab-badge.svg\" alt=\"Open In Colab\"/></a>"
      ]
    },
    {
      "cell_type": "code",
      "execution_count": 1,
      "metadata": {
        "colab": {
          "base_uri": "https://localhost:8080/"
        },
        "id": "fwbp8TW265IB",
        "outputId": "a271f1f3-254e-49c0-ea70-c67edccb8e2c"
      },
      "outputs": [
        {
          "output_type": "stream",
          "name": "stdout",
          "text": [
            "Requirement already satisfied: torch in /usr/local/lib/python3.10/dist-packages (2.4.1+cu121)\n",
            "Requirement already satisfied: filelock in /usr/local/lib/python3.10/dist-packages (from torch) (3.16.1)\n",
            "Requirement already satisfied: typing-extensions>=4.8.0 in /usr/local/lib/python3.10/dist-packages (from torch) (4.12.2)\n",
            "Requirement already satisfied: sympy in /usr/local/lib/python3.10/dist-packages (from torch) (1.13.3)\n",
            "Requirement already satisfied: networkx in /usr/local/lib/python3.10/dist-packages (from torch) (3.3)\n",
            "Requirement already satisfied: jinja2 in /usr/local/lib/python3.10/dist-packages (from torch) (3.1.4)\n",
            "Requirement already satisfied: fsspec in /usr/local/lib/python3.10/dist-packages (from torch) (2024.6.1)\n",
            "Requirement already satisfied: MarkupSafe>=2.0 in /usr/local/lib/python3.10/dist-packages (from jinja2->torch) (2.1.5)\n",
            "Requirement already satisfied: mpmath<1.4,>=1.1.0 in /usr/local/lib/python3.10/dist-packages (from sympy->torch) (1.3.0)\n"
          ]
        }
      ],
      "source": [
        "!pip install torch\n",
        "\n",
        "import torch\n",
        "import torch.nn as nn\n",
        "from torch.utils.data import DataLoader\n",
        "from torchvision import datasets\n",
        "from torchvision.transforms import ToTensor"
      ]
    },
    {
      "cell_type": "code",
      "source": [
        "# Download training data from open datasets.\n",
        "training_data = datasets.FashionMNIST(\n",
        "    root=\"data\",\n",
        "    train=True,\n",
        "    download=True,\n",
        "    transform=ToTensor(),\n",
        ")\n",
        "\n",
        "# Download test data from open datasets.\n",
        "test_data = datasets.FashionMNIST(\n",
        "    root=\"data\",\n",
        "    train=False,\n",
        "    download=True,\n",
        "    transform=ToTensor(),\n",
        ")\n",
        "\n",
        "print(training_data)\n",
        "\n",
        "print(test_data)"
      ],
      "metadata": {
        "colab": {
          "base_uri": "https://localhost:8080/"
        },
        "id": "1JoLcrZI69H5",
        "outputId": "b6e150f8-564a-4196-c5f3-99f8a477b242"
      },
      "execution_count": 2,
      "outputs": [
        {
          "output_type": "stream",
          "name": "stdout",
          "text": [
            "Downloading http://fashion-mnist.s3-website.eu-central-1.amazonaws.com/train-images-idx3-ubyte.gz\n",
            "Downloading http://fashion-mnist.s3-website.eu-central-1.amazonaws.com/train-images-idx3-ubyte.gz to data/FashionMNIST/raw/train-images-idx3-ubyte.gz\n"
          ]
        },
        {
          "output_type": "stream",
          "name": "stderr",
          "text": [
            "100%|██████████| 26421880/26421880 [00:02<00:00, 10370667.32it/s]\n"
          ]
        },
        {
          "output_type": "stream",
          "name": "stdout",
          "text": [
            "Extracting data/FashionMNIST/raw/train-images-idx3-ubyte.gz to data/FashionMNIST/raw\n",
            "\n",
            "Downloading http://fashion-mnist.s3-website.eu-central-1.amazonaws.com/train-labels-idx1-ubyte.gz\n",
            "Downloading http://fashion-mnist.s3-website.eu-central-1.amazonaws.com/train-labels-idx1-ubyte.gz to data/FashionMNIST/raw/train-labels-idx1-ubyte.gz\n"
          ]
        },
        {
          "output_type": "stream",
          "name": "stderr",
          "text": [
            "100%|██████████| 29515/29515 [00:00<00:00, 215531.97it/s]\n"
          ]
        },
        {
          "output_type": "stream",
          "name": "stdout",
          "text": [
            "Extracting data/FashionMNIST/raw/train-labels-idx1-ubyte.gz to data/FashionMNIST/raw\n",
            "\n",
            "Downloading http://fashion-mnist.s3-website.eu-central-1.amazonaws.com/t10k-images-idx3-ubyte.gz\n",
            "Downloading http://fashion-mnist.s3-website.eu-central-1.amazonaws.com/t10k-images-idx3-ubyte.gz to data/FashionMNIST/raw/t10k-images-idx3-ubyte.gz\n"
          ]
        },
        {
          "output_type": "stream",
          "name": "stderr",
          "text": [
            "100%|██████████| 4422102/4422102 [00:01<00:00, 3899060.58it/s]\n"
          ]
        },
        {
          "output_type": "stream",
          "name": "stdout",
          "text": [
            "Extracting data/FashionMNIST/raw/t10k-images-idx3-ubyte.gz to data/FashionMNIST/raw\n",
            "\n",
            "Downloading http://fashion-mnist.s3-website.eu-central-1.amazonaws.com/t10k-labels-idx1-ubyte.gz\n",
            "Downloading http://fashion-mnist.s3-website.eu-central-1.amazonaws.com/t10k-labels-idx1-ubyte.gz to data/FashionMNIST/raw/t10k-labels-idx1-ubyte.gz\n"
          ]
        },
        {
          "output_type": "stream",
          "name": "stderr",
          "text": [
            "100%|██████████| 5148/5148 [00:00<00:00, 19683023.69it/s]\n"
          ]
        },
        {
          "output_type": "stream",
          "name": "stdout",
          "text": [
            "Extracting data/FashionMNIST/raw/t10k-labels-idx1-ubyte.gz to data/FashionMNIST/raw\n",
            "\n",
            "Dataset FashionMNIST\n",
            "    Number of datapoints: 60000\n",
            "    Root location: data\n",
            "    Split: Train\n",
            "    StandardTransform\n",
            "Transform: ToTensor()\n",
            "Dataset FashionMNIST\n",
            "    Number of datapoints: 10000\n",
            "    Root location: data\n",
            "    Split: Test\n",
            "    StandardTransform\n",
            "Transform: ToTensor()\n"
          ]
        }
      ]
    },
    {
      "cell_type": "code",
      "source": [
        "batch_size = 64\n",
        "\n",
        "# Create data loaders.\n",
        "train_dataloader = DataLoader(training_data, batch_size=batch_size)\n",
        "test_dataloader = DataLoader(test_data, batch_size=batch_size)\n",
        "\n",
        "for X, y in test_dataloader:\n",
        "    print(f\"Shape of X [N, C, H, W]: {X.shape}\")\n",
        "    print(f\"Shape of y: {y.shape} {y.dtype}\")\n",
        "    break"
      ],
      "metadata": {
        "colab": {
          "base_uri": "https://localhost:8080/"
        },
        "id": "63JvicfZ7BQv",
        "outputId": "9a41d482-816a-47d1-a0e6-92cf0bac612c"
      },
      "execution_count": 3,
      "outputs": [
        {
          "output_type": "stream",
          "name": "stdout",
          "text": [
            "Shape of X [N, C, H, W]: torch.Size([64, 1, 28, 28])\n",
            "Shape of y: torch.Size([64]) torch.int64\n"
          ]
        }
      ]
    },
    {
      "cell_type": "code",
      "source": [
        "# Get cpu, gpu or mps device for training.\n",
        "device = (\n",
        "    \"cuda\"\n",
        "    if torch.cuda.is_available()\n",
        "    else \"mps\"\n",
        "    if torch.backends.mps.is_available()\n",
        "    else \"cpu\"\n",
        ")\n",
        "print(f\"Using {device} device\")\n",
        "\n",
        "# Define model\n",
        "class NeuralNetwork(nn.Module):\n",
        "    def __init__(self):\n",
        "        super().__init__()\n",
        "        self.flatten = nn.Flatten()\n",
        "        self.linear_relu_stack = nn.Sequential(\n",
        "            nn.Linear(28*28, 512),\n",
        "            nn.ReLU(),\n",
        "            nn.Linear(512, 512),\n",
        "            nn.ReLU(),\n",
        "            nn.Linear(512, 10)\n",
        "        )\n",
        "\n",
        "    def forward(self, x):\n",
        "        x = self.flatten(x)\n",
        "        logits = self.linear_relu_stack(x)\n",
        "        return logits\n",
        "\n",
        "model = NeuralNetwork().to(device)\n",
        "print(model)"
      ],
      "metadata": {
        "colab": {
          "base_uri": "https://localhost:8080/"
        },
        "id": "3Tql505v7Dgo",
        "outputId": "c9a2a890-0539-4748-e184-91d1ef45ca18"
      },
      "execution_count": 4,
      "outputs": [
        {
          "output_type": "stream",
          "name": "stdout",
          "text": [
            "Using cuda device\n",
            "NeuralNetwork(\n",
            "  (flatten): Flatten(start_dim=1, end_dim=-1)\n",
            "  (linear_relu_stack): Sequential(\n",
            "    (0): Linear(in_features=784, out_features=512, bias=True)\n",
            "    (1): ReLU()\n",
            "    (2): Linear(in_features=512, out_features=512, bias=True)\n",
            "    (3): ReLU()\n",
            "    (4): Linear(in_features=512, out_features=10, bias=True)\n",
            "  )\n",
            ")\n"
          ]
        }
      ]
    },
    {
      "cell_type": "code",
      "source": [
        "loss_fn = nn.CrossEntropyLoss()\n",
        "optimizer = torch.optim.Adam(model.parameters(), lr=1e-3)"
      ],
      "metadata": {
        "id": "ykmy0wYG7FmX"
      },
      "execution_count": 5,
      "outputs": []
    },
    {
      "cell_type": "code",
      "source": [
        "def train(dataloader, model, loss_fn, optimizer):\n",
        "    size = len(dataloader.dataset)\n",
        "    model.train()\n",
        "    for batch, (X, y) in enumerate(dataloader):\n",
        "        X, y = X.to(device), y.to(device)\n",
        "\n",
        "        # Compute prediction error\n",
        "        pred = model(X)\n",
        "        loss = loss_fn(pred, y)\n",
        "\n",
        "        # Backpropagation\n",
        "        loss.backward()\n",
        "        optimizer.step()\n",
        "        optimizer.zero_grad()\n",
        "\n",
        "        if batch % 100 == 0:\n",
        "            loss, current = loss.item(), (batch + 1) * len(X)\n",
        "            print(f\"loss: {loss:>7f}  [{current:>5d}/{size:>5d}]\")"
      ],
      "metadata": {
        "id": "QGKmWHnO7Hbg"
      },
      "execution_count": 6,
      "outputs": []
    },
    {
      "cell_type": "code",
      "source": [
        "def test(dataloader, model, loss_fn):\n",
        "    size = len(dataloader.dataset)\n",
        "    num_batches = len(dataloader)\n",
        "    model.eval()\n",
        "    test_loss, correct = 0, 0\n",
        "    with torch.no_grad():\n",
        "        for X, y in dataloader:\n",
        "            X, y = X.to(device), y.to(device)\n",
        "            pred = model(X)\n",
        "            test_loss += loss_fn(pred, y).item()\n",
        "            correct += (pred.argmax(1) == y).type(torch.float).sum().item()\n",
        "    test_loss /= num_batches\n",
        "    correct /= size\n",
        "    print(f\"Test Error: \\n Accuracy: {(100*correct):>0.1f}%, Avg loss: {test_loss:>8f} \\n\")"
      ],
      "metadata": {
        "id": "w-bPi3X47I6o"
      },
      "execution_count": 7,
      "outputs": []
    },
    {
      "cell_type": "code",
      "source": [
        "epochs = 5\n",
        "for t in range(epochs):\n",
        "    print(f\"Epoch {t+1}\\n-------------------------------\")\n",
        "    train(train_dataloader, model, loss_fn, optimizer)\n",
        "    test(test_dataloader, model, loss_fn)\n",
        "print(\"Done!\")"
      ],
      "metadata": {
        "colab": {
          "base_uri": "https://localhost:8080/"
        },
        "id": "c-CRnvW07KhX",
        "outputId": "5d416a71-8599-4410-cf38-fffc221d5f66"
      },
      "execution_count": 8,
      "outputs": [
        {
          "output_type": "stream",
          "name": "stdout",
          "text": [
            "Epoch 1\n",
            "-------------------------------\n",
            "loss: 2.288638  [   64/60000]\n",
            "loss: 0.545255  [ 6464/60000]\n",
            "loss: 0.384034  [12864/60000]\n",
            "loss: 0.485245  [19264/60000]\n",
            "loss: 0.445625  [25664/60000]\n",
            "loss: 0.409906  [32064/60000]\n",
            "loss: 0.361065  [38464/60000]\n",
            "loss: 0.527872  [44864/60000]\n",
            "loss: 0.499154  [51264/60000]\n",
            "loss: 0.512200  [57664/60000]\n",
            "Test Error: \n",
            " Accuracy: 84.1%, Avg loss: 0.432932 \n",
            "\n",
            "Epoch 2\n",
            "-------------------------------\n",
            "loss: 0.298872  [   64/60000]\n",
            "loss: 0.370515  [ 6464/60000]\n",
            "loss: 0.277739  [12864/60000]\n",
            "loss: 0.402518  [19264/60000]\n",
            "loss: 0.379383  [25664/60000]\n",
            "loss: 0.391184  [32064/60000]\n",
            "loss: 0.299866  [38464/60000]\n",
            "loss: 0.526752  [44864/60000]\n",
            "loss: 0.399820  [51264/60000]\n",
            "loss: 0.453612  [57664/60000]\n",
            "Test Error: \n",
            " Accuracy: 85.1%, Avg loss: 0.401614 \n",
            "\n",
            "Epoch 3\n",
            "-------------------------------\n",
            "loss: 0.237326  [   64/60000]\n",
            "loss: 0.330876  [ 6464/60000]\n",
            "loss: 0.240961  [12864/60000]\n",
            "loss: 0.333582  [19264/60000]\n",
            "loss: 0.364064  [25664/60000]\n",
            "loss: 0.360884  [32064/60000]\n",
            "loss: 0.270237  [38464/60000]\n",
            "loss: 0.481360  [44864/60000]\n",
            "loss: 0.356943  [51264/60000]\n",
            "loss: 0.437512  [57664/60000]\n",
            "Test Error: \n",
            " Accuracy: 86.2%, Avg loss: 0.378392 \n",
            "\n",
            "Epoch 4\n",
            "-------------------------------\n",
            "loss: 0.229550  [   64/60000]\n",
            "loss: 0.310514  [ 6464/60000]\n",
            "loss: 0.228123  [12864/60000]\n",
            "loss: 0.284454  [19264/60000]\n",
            "loss: 0.371518  [25664/60000]\n",
            "loss: 0.368880  [32064/60000]\n",
            "loss: 0.255870  [38464/60000]\n",
            "loss: 0.432803  [44864/60000]\n",
            "loss: 0.309839  [51264/60000]\n",
            "loss: 0.369568  [57664/60000]\n",
            "Test Error: \n",
            " Accuracy: 87.1%, Avg loss: 0.359926 \n",
            "\n",
            "Epoch 5\n",
            "-------------------------------\n",
            "loss: 0.219572  [   64/60000]\n",
            "loss: 0.261121  [ 6464/60000]\n",
            "loss: 0.237666  [12864/60000]\n",
            "loss: 0.222996  [19264/60000]\n",
            "loss: 0.334614  [25664/60000]\n",
            "loss: 0.328548  [32064/60000]\n",
            "loss: 0.228829  [38464/60000]\n",
            "loss: 0.378646  [44864/60000]\n",
            "loss: 0.284957  [51264/60000]\n",
            "loss: 0.352591  [57664/60000]\n",
            "Test Error: \n",
            " Accuracy: 87.1%, Avg loss: 0.351293 \n",
            "\n",
            "Done!\n"
          ]
        }
      ]
    },
    {
      "cell_type": "code",
      "source": [
        "torch.save(model.state_dict(), \"model.pth\")\n",
        "print(\"Saved PyTorch Model State to model.pth\")"
      ],
      "metadata": {
        "colab": {
          "base_uri": "https://localhost:8080/"
        },
        "id": "KAFvL8Li7MCI",
        "outputId": "b72fce0f-b036-41ec-82da-e9f7ea9cfd96"
      },
      "execution_count": 9,
      "outputs": [
        {
          "output_type": "stream",
          "name": "stdout",
          "text": [
            "Saved PyTorch Model State to model.pth\n"
          ]
        }
      ]
    },
    {
      "cell_type": "code",
      "source": [
        "model = NeuralNetwork().to(device)\n",
        "model.load_state_dict(torch.load(\"model.pth\", weights_only=True))"
      ],
      "metadata": {
        "colab": {
          "base_uri": "https://localhost:8080/"
        },
        "id": "sG26uQPk7N4f",
        "outputId": "d10f3cb4-3e44-404e-b769-9454ef08f74c"
      },
      "execution_count": 10,
      "outputs": [
        {
          "output_type": "execute_result",
          "data": {
            "text/plain": [
              "<All keys matched successfully>"
            ]
          },
          "metadata": {},
          "execution_count": 10
        }
      ]
    },
    {
      "cell_type": "code",
      "source": [
        "len(test_data)"
      ],
      "metadata": {
        "colab": {
          "base_uri": "https://localhost:8080/"
        },
        "id": "cuzBwHrS7cW5",
        "outputId": "12496c71-5657-46d9-8148-e8400040695a"
      },
      "execution_count": 11,
      "outputs": [
        {
          "output_type": "execute_result",
          "data": {
            "text/plain": [
              "10000"
            ]
          },
          "metadata": {},
          "execution_count": 11
        }
      ]
    },
    {
      "cell_type": "code",
      "source": [
        "import pandas as pd\n",
        "import matplotlib.pyplot as plt\n",
        "import numpy as np\n",
        "import random\n",
        "%matplotlib inline\n",
        "\n",
        "\n",
        "classes = [\n",
        "    \"T-shirt/top\",\n",
        "    \"Trouser\",\n",
        "    \"Pullover\",\n",
        "    \"Dress\",\n",
        "    \"Coat\",\n",
        "    \"Sandal\",\n",
        "    \"Shirt\",\n",
        "    \"Sneaker\",\n",
        "    \"Bag\",\n",
        "    \"Ankle boot\",\n",
        "]\n",
        "\n",
        "num_iter = 4  # Number of images to test\n",
        "fig, axs = plt.subplots(1, num_iter, figsize=(10, 3))  # Create subplots (1 row, num_iter columns)\n",
        "\n",
        "for i in range(num_iter):\n",
        "    # Generate a random number\n",
        "    test_num = random.randint(0, 10000)\n",
        "\n",
        "    model.eval()\n",
        "    x, y = test_data[test_num][0], test_data[test_num][1]\n",
        "\n",
        "    # Display image in a subplot\n",
        "    print(f'We are testing #{test_num} out of 10000 from the FashionMNIST dataset:')\n",
        "    axs[i].imshow(x.reshape(28, 28))  # Plot in the ith subplot\n",
        "    axs[i].axis('off')  # Turn off axis for cleaner look\n",
        "\n",
        "    with torch.no_grad():\n",
        "        x = x.to(device)\n",
        "        pred = model(x)\n",
        "        predicted, actual = classes[pred[0].argmax(0)], classes[y]\n",
        "        axs[i].set_title(f'Predicted: \"{predicted}\"\\nActual: \"{actual}\"')  # Set title for the subplot\n",
        "\n",
        "plt.tight_layout()  # Adjust layout to prevent overlapping\n",
        "plt.show()"
      ],
      "metadata": {
        "colab": {
          "base_uri": "https://localhost:8080/",
          "height": 273
        },
        "id": "8GeS0Vvd7Pif",
        "outputId": "3cde0863-2b30-4d91-b253-49307e7693e4"
      },
      "execution_count": 39,
      "outputs": [
        {
          "output_type": "stream",
          "name": "stdout",
          "text": [
            "We are testing #1641 out of 10000 from the FashionMNIST dataset:\n",
            "We are testing #2853 out of 10000 from the FashionMNIST dataset:\n",
            "We are testing #5581 out of 10000 from the FashionMNIST dataset:\n",
            "We are testing #6912 out of 10000 from the FashionMNIST dataset:\n"
          ]
        },
        {
          "output_type": "display_data",
          "data": {
            "text/plain": [
              "<Figure size 1000x300 with 4 Axes>"
            ],
            "image/png": "[encoded data removed]"
          },
          "metadata": {}
        }
      ]
    },
    {
      "cell_type": "markdown",
      "source": [
        "# Get image online"
      ],
      "metadata": {
        "id": "OmQqxZi2ia_l"
      }
    },
    {
      "cell_type": "code",
      "source": [
        "import requests\n",
        "from PIL import Image\n",
        "from torchvision import transforms\n",
        "from io import BytesIO\n",
        "from PIL import ImageOps\n",
        "import matplotlib.pyplot as plt\n",
        "\n",
        "def load_image_from_url(url):\n",
        "    # Load the image from URL\n",
        "    response = requests.get(url, stream=True)\n",
        "    response.raw.decode_content = True\n",
        "    img_raw = Image.open(BytesIO(response.content))\n",
        "    img = img_raw.copy().convert('L')\n",
        "\n",
        "    # Invert the grayscale image\n",
        "    img = ImageOps.invert(img)\n",
        "\n",
        "    # Display the image using matplotlib (before preprocessing)\n",
        "    plt.imshow(img_raw)\n",
        "    plt.axis('off')\n",
        "    plt.show()\n",
        "\n",
        "    # Get and print image dimensions\n",
        "    width, height = img.size\n",
        "    print(f\"Image Dimensions: Width={width}, Height={height}\")\n",
        "\n",
        "    # Preprocess the image (resize and convert to tensor)\n",
        "    preprocess = transforms.Compose([\n",
        "        transforms.Resize((28, 28)),\n",
        "        transforms.ToTensor(),\n",
        "        transforms.Normalize((0.5,), (0.5,))\n",
        "    ])\n",
        "\n",
        "    img_tensor = preprocess(img).unsqueeze(0)\n",
        "    return img_tensor"
      ],
      "metadata": {
        "id": "ZP6iOSwbimLm"
      },
      "execution_count": 73,
      "outputs": []
    },
    {
      "cell_type": "code",
      "source": [
        "# URL of the image to classify\n",
        "# image_url = 'https://s3.amazonaws.com/images.ecwid.com/images/23401079/1276317004.jpg'\n",
        "# image_url = 'https://encrypted-tbn3.gstatic.com/shopping?q=tbn:ANd9GcRqk6BgV6etJzlRk19gTUhIxwOKdjVlpiDRKe_wMnVHcUzPu965s9rbLrHJeH9FuchiJkx_8oHso3V8qzOgjY87iZK2O0eJI--Ndtskrstod-rZj4_71_wQ0aZ0Z2OF91TgvA8sKUWQNw&usqp=CAc'\n",
        "# image_url = 'https://www.kuiu.com/cdn/shop/products/40001-MB_FrontTQ_AttackPant_2021_500x.png?v=1635791514'\n",
        "image_url = 'https://encrypted-tbn2.gstatic.com/shopping?q=tbn:ANd9GcQi7cRfNQz10xj4R89r1H3UlRyciZsjsv-oedLdgfqe-oOh58orVdqTC44x0RT7JHJzcAuHWD3iBKCLdXhE2CTCZqO8grQSeamWhqwdSGmbVMTU7JEZs3EgRLO02bWiZLFYewPiXw&usqp=CAc'"
      ],
      "metadata": {
        "id": "MgW8lHUaip7v"
      },
      "execution_count": 79,
      "outputs": []
    },
    {
      "cell_type": "code",
      "source": [
        "# Load and preprocess the image\n",
        "image_tensor = load_image_from_url(image_url)\n",
        "\n",
        "if image_tensor is not None:\n",
        "    # Display the image\n",
        "    plt.imshow(image_tensor.squeeze())\n",
        "    plt.axis('off')\n",
        "    plt.show()\n",
        "\n",
        "    # Evaluate with the model\n",
        "    model.eval()\n",
        "    with torch.no_grad():\n",
        "        image_tensor = image_tensor.to(device)  # Move to the device (GPU/CPU)\n",
        "        pred = model(image_tensor)\n",
        "        predicted_class = pred[0].argmax(0).item()\n",
        "\n",
        "    # Print the prediction result\n",
        "    print(f'Predicted item: \"{classes[predicted_class]}\"')\n",
        "else:\n",
        "    print(\"Failed to load the image.\")"
      ],
      "metadata": {
        "colab": {
          "base_uri": "https://localhost:8080/",
          "height": 830
        },
        "id": "92e4sdxnishe",
        "outputId": "cb75689e-c267-4224-d692-fb5b8a27544c"
      },
      "execution_count": 80,
      "outputs": [
        {
          "output_type": "display_data",
          "data": {
            "text/plain": [
              "<Figure size 640x480 with 1 Axes>"
            ],
            "image/png": "[encoded data removed]"
          },
          "metadata": {}
        },
        {
          "output_type": "stream",
          "name": "stdout",
          "text": [
            "Image Dimensions: Width=173, Height=173\n"
          ]
        },
        {
          "output_type": "display_data",
          "data": {
            "text/plain": [
              "<Figure size 640x480 with 1 Axes>"
            ],
            "image/png": "[encoded data removed]"
          },
          "metadata": {}
        },
        {
          "output_type": "stream",
          "name": "stdout",
          "text": [
            "Predicted item: \"Sandal\"\n"
          ]
        }
      ]
    },
    {
      "cell_type": "code",
      "source": [],
      "metadata": {
        "id": "NhMZJtkcOmVc"
      },
      "execution_count": 80,
      "outputs": []
    }
  ]
}