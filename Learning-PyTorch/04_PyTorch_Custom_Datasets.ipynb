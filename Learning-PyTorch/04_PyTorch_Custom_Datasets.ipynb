{
  "nbformat": 4,
  "nbformat_minor": 0,
  "metadata": {
    "colab": {
      "provenance": [],
      "authorship_tag": "ABX9TyPP9kqpCpY0p/GURwbL6GL6",
      "include_colab_link": true
    },
    "kernelspec": {
      "name": "python3",
      "display_name": "Python 3"
    },
    "language_info": {
      "name": "python"
    }
  },
  "cells": [
    {
      "cell_type": "markdown",
      "metadata": {
        "id": "view-in-github",
        "colab_type": "text"
      },
      "source": [
        "<a href=\"https://colab.research.google.com/github/khangsheng1/Learning-PyTorch/blob/main/Learning-PyTorch/04_PyTorch_Custom_Datasets.ipynb\" target=\"_parent\"><img src=\"https://colab.research.google.com/assets/colab-badge.svg\" alt=\"Open In Colab\"/></a>"
      ]
    },
    {
      "cell_type": "markdown",
      "source": [
        "URL: https://www.learnpytorch.io/04_pytorch_custom_datasets/"
      ],
      "metadata": {
        "id": "asaEHU4oT4WQ"
      }
    },
    {
      "cell_type": "markdown",
      "source": [
        "# What we're going to cover\n",
        "\n",
        "[Load data, Build a model, Predict the model](https://raw.githubusercontent.com/mrdbourke/pytorch-deep-learning/main/images/04-pytorch-food-vision-layout.png)"
      ],
      "metadata": {
        "id": "52-pLtKsVqlk"
      }
    },
    {
      "cell_type": "markdown",
      "source": [
        "|Topic|Contents|\n",
        "|--|--|\n",
        "|0. Importing PyTorch and setting up device-agnostic code|Let's get PyTorch loaded and then follow best practice to setup our code to be device-agnostic.|\n",
        "|1. Get data|We're going to be using our own **custom dataset** of pizza, steak and sushi images.|\n",
        "|2. Become one with the data (data preparation)|At the beginning of any new machine learning problem, it's paramount to understand the data you're working with. Here we'll take some steps to figure out what data we have.|\n",
        "|3. Transforming data|Often, the data you get won't be 100% ready to use with a machine learning model, here we'll look at some steps we can take to *transform* our images so they're ready to be used with a model.|\n",
        "|4. Loading data with `ImageFolder` (option 1)|PyTorch has many in-built data loading functions for common types of data. `ImageFolder` is helpful if our images are in standard image classification format.|\n",
        "|5. Loading image data with a custom `Dataset`|What if PyTorch didn't have an in-built function to load data with? This is where we can build our own custom subclass of `torch.utils.data.Dataset`.|\n",
        "|6. Other forms of transforms (data augmentation)|Data augmentation is a common technique for expanding the diversity of your training data. Here we'll explore some of `torchvision`'s in-built data augmentation functions.|\n",
        "|7. Model 0: TinyVGG without data augmentation|By this stage, we'll have our data ready, let's build a model capable of fitting it. We'll also create some training and testing functions for training and evaluating our model.|\n",
        "|8. Exploring loss curves|Loss curves are a great way to see how your model is training/improving over time. They're also a good way to see if your model is **underfitting** or **overfitting**.|\n",
        "|9. Model 1: TinyVGG with data augmentation|By now, we've tried a model *without*, how about we try one with data augmentation?|\n",
        "|10. Compare model results|Let's compare our different models' loss curves and see which performed better and discuss some options for improving performance.|\n",
        "|11. Making a prediction on a custom image|Our model is trained to on a dataset of pizza, steak and sushi images. In this section we'll cover how to use our trained model to predict on an image outside of our existing dataset.|"
      ],
      "metadata": {
        "id": "YZyVRNMAV8Wd"
      }
    },
    {
      "cell_type": "code",
      "execution_count": null,
      "metadata": {
        "id": "tRyW3UyoSbL3"
      },
      "outputs": [],
      "source": []
    }
  ]
}